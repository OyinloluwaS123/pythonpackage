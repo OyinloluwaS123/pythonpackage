{
 "cells": [
  {
   "cell_type": "code",
   "execution_count": 2,
   "metadata": {},
   "outputs": [
    {
     "name": "stdout",
     "output_type": "stream",
     "text": [
      "Hello World\n",
      "and how are you?\n",
      "\n",
      "Mark\n",
      "September 20th 2029\n",
      "I am signing up for Replit's 100 days of python\n",
      "challenge!\n",
      "I will make sure to spend some time every day coding along,\n",
      "for a minimum of 10minutes a day.\n",
      "I'll be using Replit, an amazing online IDE so I can do this from my phone wherever I happen to be. No excuses for not \n",
      "coding from the middle of a field!\n",
      "I am feeling 🥳\n"
     ]
    }
   ],
   "source": [
    "print('Hello World')\n",
    "print('and how are you?')\n",
    "\n",
    "print(\"\"\"\n",
    "Mark\n",
    "September 20th 2029\n",
    "I am signing up for Replit's 100 days of python\n",
    "challenge!\n",
    "I will make sure to spend some time every day coding along,\n",
    "for a minimum of 10minutes a day.\n",
    "I'll be using Replit, an amazing online IDE so I can do this from my phone wherever I happen to be. No excuses for not \n",
    "coding from the middle of a field!\n",
    "I am feeling 🥳\"\"\")"
   ]
  },
  {
   "cell_type": "code",
   "execution_count": 4,
   "metadata": {},
   "outputs": [
    {
     "name": "stdout",
     "output_type": "stream",
     "text": [
      "Getting to know you\n",
      "\n",
      "\n",
      "\n",
      "\n",
      "\n",
      "you are\n",
      "Oyin\n",
      "youre probably hungry for\n",
      "yam and eggs\n",
      "and you are definitely getting your groove on to\n",
      "hey ya by Outkast\n",
      "Living in the amazing\n",
      "Lagos, Nigeria\n"
     ]
    }
   ],
   "source": [
    "print(\"Getting to know you\")\n",
    "print()\n",
    "your_name = input(\"what's your name?:\")\n",
    "print()\n",
    "your_favourite_food = input(\"What's your favourite food?:\")\n",
    "print()\n",
    "your_favourite_music = input(\"What's your favourite music?:\")\n",
    "print()\n",
    "location = input(\"Where do you live?:\")\n",
    "print()\n",
    "\n",
    "print('you are')\n",
    "print(your_name)\n",
    "print(\"youre probably hungry for\")\n",
    "print(your_favourite_food)\n",
    "print('and you are definitely getting your groove on to')\n",
    "print(your_favourite_music)\n",
    "print('Living in the amazing')\n",
    "print(location)\n"
   ]
  },
  {
   "cell_type": "code",
   "execution_count": 6,
   "metadata": {},
   "outputs": [
    {
     "name": "stdout",
     "output_type": "stream",
     "text": [
      "\n",
      "\n",
      "\n",
      "my favourite food is yam it contains carbohydrates i often cook it frying and repair the stoove when cooking with hammer\n"
     ]
    }
   ],
   "source": [
    "name_of_food = input('name a type of food:')\n",
    "print()\n",
    "name_of_nutrient = input('name a type of nutrient:')\n",
    "print()\n",
    "name_of_cooking = input('name a method of cooking:')\n",
    "print()\n",
    "DIY_item = input('name a DIY item:')\n",
    "\n",
    "print('my favourite food is', name_of_food, 'it contains', name_of_nutrient, 'i often cook it', name_of_cooking, \n",
    "      'and repair the stoove when cooking with', DIY_item)\n",
    "\n",
    "\n"
   ]
  },
  {
   "cell_type": "code",
   "execution_count": null,
   "metadata": {},
   "outputs": [],
   "source": []
  }
 ],
 "metadata": {
  "kernelspec": {
   "display_name": "base",
   "language": "python",
   "name": "python3"
  },
  "language_info": {
   "codemirror_mode": {
    "name": "ipython",
    "version": 3
   },
   "file_extension": ".py",
   "mimetype": "text/x-python",
   "name": "python",
   "nbconvert_exporter": "python",
   "pygments_lexer": "ipython3",
   "version": "3.12.7"
  }
 },
 "nbformat": 4,
 "nbformat_minor": 2
}
