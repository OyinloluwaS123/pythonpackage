{
 "cells": [
  {
   "cell_type": "code",
   "execution_count": 2,
   "metadata": {},
   "outputs": [
    {
     "name": "stdout",
     "output_type": "stream",
     "text": [
      "Hello World\n",
      "and how are you?\n",
      "\n",
      "Mark\n",
      "September 20th 2029\n",
      "I am signing up for Replit's 100 days of python\n",
      "challenge!\n",
      "I will make sure to spend some time every day coding along,\n",
      "for a minimum of 10minutes a day.\n",
      "I'll be using Replit, an amazing online IDE so I can do this from my phone wherever I happen to be. No excuses for not \n",
      "coding from the middle of a field!\n",
      "I am feeling 🥳\n"
     ]
    }
   ],
   "source": [
    "print('Hello World')\n",
    "print('and how are you?')\n",
    "\n",
    "print(\"\"\"\n",
    "Mark\n",
    "September 20th 2029\n",
    "I am signing up for Replit's 100 days of python\n",
    "challenge!\n",
    "I will make sure to spend some time every day coding along,\n",
    "for a minimum of 10minutes a day.\n",
    "I'll be using Replit, an amazing online IDE so I can do this from my phone wherever I happen to be. No excuses for not \n",
    "coding from the middle of a field!\n",
    "I am feeling 🥳\"\"\")"
   ]
  },
  {
   "cell_type": "code",
   "execution_count": null,
   "metadata": {},
   "outputs": [],
   "source": []
  }
 ],
 "metadata": {
  "kernelspec": {
   "display_name": "base",
   "language": "python",
   "name": "python3"
  },
  "language_info": {
   "codemirror_mode": {
    "name": "ipython",
    "version": 3
   },
   "file_extension": ".py",
   "mimetype": "text/x-python",
   "name": "python",
   "nbconvert_exporter": "python",
   "pygments_lexer": "ipython3",
   "version": "3.12.7"
  }
 },
 "nbformat": 4,
 "nbformat_minor": 2
}
