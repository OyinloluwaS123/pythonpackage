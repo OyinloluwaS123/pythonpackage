{
 "cells": [
  {
   "cell_type": "code",
   "execution_count": 1,
   "metadata": {},
   "outputs": [
    {
     "name": "stdout",
     "output_type": "stream",
     "text": [
      "Mathematics\n",
      "Mathematics\n",
      "The first course is Computer science\n",
      "The last course is English Language\n"
     ]
    }
   ],
   "source": [
    "#Learning about lists\n",
    "import random\n",
    "\n",
    "timetable = [\"Computer science\", \"Mathematics\", \"Art\", \"English Language\"]\n",
    "\n",
    "index = random.randint(0,3)\n",
    "print(timetable[index])\n",
    "\n",
    "print(timetable[1])\n",
    "print(f'The first course is {timetable[0]}')\n",
    "print(f'The last course is {timetable[3]}')"
   ]
  },
  {
   "cell_type": "code",
   "execution_count": null,
   "metadata": {},
   "outputs": [
    {
     "name": "stdout",
     "output_type": "stream",
     "text": [
      "creating a list\n",
      "creating a list\n",
      "sorting the list\n",
      "creating a list\n",
      "sorting the list\n",
      "Using append/pop/remove\n"
     ]
    }
   ],
   "source": [
    "#Learning about dynamic lists\n",
    "\n",
    "myAgenda = []\n",
    "\n",
    "def printlist():\n",
    "    for item in myAgenda:\n",
    "        print(item)\n",
    "\n",
    "while True:\n",
    "    menu = input(\"Add or remove or quit?: \")\n",
    "    if menu == \"add\":\n",
    "        item = input(\"what would you like to add to the agenda?: \")\n",
    "        myAgenda.append(item)\n",
    "    elif menu == \"remove\":\n",
    "        item = input(\"what would you like to remove from the agenda?: \")\n",
    "        myAgenda.remove(item)\n",
    "    elif menu == \"quit\":\n",
    "        break\n",
    "    printlist()"
   ]
  },
  {
   "cell_type": "code",
   "execution_count": null,
   "metadata": {},
   "outputs": [
    {
     "name": "stdout",
     "output_type": "stream",
     "text": [
      "Creating a bookshop\n",
      "eating more vegetables\n",
      "Writing my project research papers\n"
     ]
    }
   ],
   "source": [
    "#Challenge - Build a to-do list manager\n",
    "\n",
    "todolist = []\n",
    "\n",
    "def printlist():\n",
    "    for items in todolist:\n",
    "        print(items)\n",
    "\n",
    "while True:\n",
    "    menu = input(\"To-do List Manager\\nDo you want to view, add or edit or quit the to-do list\\n\").lower()\n",
    "    if menu == \"view\":\n",
    "        printlist()\n",
    "\n",
    "    elif menu == \"add\":\n",
    "        item = input(\"Do you want to add to the list?:\")\n",
    "        todolist.append(item)\n",
    "\n",
    "    elif menu == \"remove\":\n",
    "        item = input(\"what do you want to remove from the list?\\n\").title()\n",
    "        check =input(\"Are you sure you want to remove this?\\n\".lower())\n",
    "        if check[0] == \"y\":\n",
    "            if item in todolist:\n",
    "                todolist.remove(item)\n",
    "    \n",
    "    elif menu == \"edit\":\n",
    "        item = input(\"what do you want to edit from the list?\\n\").title()\n",
    "        new = input(\"what do you want to edit from the list?\\n\").title()\n",
    "\n",
    "        for i in range(0,len(todolist)):\n",
    "            if todolist[i] == item:\n",
    "                todolist[i] = new\n",
    "    \n",
    "    elif menu == \"quit\":\n",
    "        break"
   ]
  },
  {
   "cell_type": "code",
   "execution_count": null,
   "metadata": {},
   "outputs": [],
   "source": []
  }
 ],
 "metadata": {
  "kernelspec": {
   "display_name": "base",
   "language": "python",
   "name": "python3"
  },
  "language_info": {
   "codemirror_mode": {
    "name": "ipython",
    "version": 3
   },
   "file_extension": ".py",
   "mimetype": "text/x-python",
   "name": "python",
   "nbconvert_exporter": "python",
   "pygments_lexer": "ipython3",
   "version": "3.12.7"
  }
 },
 "nbformat": 4,
 "nbformat_minor": 2
}
