{
 "cells": [
  {
   "cell_type": "code",
   "execution_count": null,
   "metadata": {},
   "outputs": [
    {
     "name": "stdout",
     "output_type": "stream",
     "text": [
      "Moses : location Egypt | weapon Rod\n",
      "David : location Canaan | weapon Slingshot\n",
      "Hamon : location Babylon | weapon Sword\n",
      "\n",
      "That's enough data.\n",
      "\n"
     ]
    }
   ],
   "source": [
    "# Challenge - using 2D dictionaries\n",
    "\n",
    "clue = {}\n",
    "count = 0\n",
    "\n",
    "def printt(name):\n",
    "        print(f\"{name} : location {clue[name]['location']} | weapon {clue[name]['weapon']}\")\n",
    "        \n",
    "\n",
    "while True:\n",
    "    name = input(\"Name: \")\n",
    "    location = input(\"Location: \")\n",
    "    weapon = input(\"Weapon: \")\n",
    "    clue[name] = {\"location\": location, \"weapon\": weapon}\n",
    "    printt(name)\n",
    "\n",
    "    count += 1\n",
    "    if count == 3:\n",
    "        print(\"\\nThat's enough data.\\n\")\n",
    "        break"
   ]
  },
  {
   "cell_type": "code",
   "execution_count": 20,
   "metadata": {},
   "outputs": [
    {
     "name": "stdout",
     "output_type": "stream",
     "text": [
      "Welcome to the game\n",
      "_______________\n",
      "David : type: Element | hp 22 | mp 9000\n",
      "_______________\n",
      "Osai : type: Fire | hp 222000 | mp 60000\n",
      "_______________\n",
      "Zuko : type: 22 | hp 3333 | mp 88\n",
      "Okay, great.\n"
     ]
    }
   ],
   "source": [
    "#Challenge - Mokebeasts- build a dictionary that asks for user input and presents it\n",
    "\n",
    "import os, time\n",
    "\n",
    "Mokebeasts = {}\n",
    "count = 0\n",
    "\n",
    "print(\"Welcome to the game\")\n",
    "def printt(name):\n",
    "    print(f\"{name} : type: {Mokebeasts[name]['type']} | hp {Mokebeasts[name]['hp']} | mp {Mokebeasts[name]['mp']}\")\n",
    "\n",
    "while True:\n",
    "    name = input(\"Name: \")\n",
    "    type = input(\"Type \")\n",
    "    hp = int(input(\"HP: \"))\n",
    "    mp = int(input(\"MP: \"))\n",
    "    Mokebeasts[name] = {\"type\": type, \"hp\":hp , \"mp\": mp}\n",
    "    print (\"_______________\")\n",
    "    printt(name)\n",
    "\n",
    "    count += 1\n",
    "    if count == 3:\n",
    "        print(\"Okay, great.\")\n",
    "        break"
   ]
  }
 ],
 "metadata": {
  "kernelspec": {
   "display_name": "base",
   "language": "python",
   "name": "python3"
  },
  "language_info": {
   "codemirror_mode": {
    "name": "ipython",
    "version": 3
   },
   "file_extension": ".py",
   "mimetype": "text/x-python",
   "name": "python",
   "nbconvert_exporter": "python",
   "pygments_lexer": "ipython3",
   "version": "3.12.7"
  }
 },
 "nbformat": 4,
 "nbformat_minor": 2
}
