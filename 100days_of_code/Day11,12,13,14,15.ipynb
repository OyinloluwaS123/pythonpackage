{
 "cells": [
  {
   "cell_type": "code",
   "execution_count": 4,
   "metadata": {},
   "outputs": [
    {
     "name": "stdout",
     "output_type": "stream",
     "text": [
      "Let's calculate the number of seconds in a year\n",
      "this is the number of seconds in a leap year\n",
      "31622400\n"
     ]
    }
   ],
   "source": [
    "#How many seconds are in a year\n",
    "print (\"Let's calculate the number of seconds in a year\")\n",
    "year = input(\"would you like to calculate a leap year or a normal year\")\n",
    "if year == \"leap year\":\n",
    "    print(\"this is the number of seconds in a leap year\")\n",
    "    print(366 * 24 * 60 * 60)\n",
    "else:\n",
    "    print(\"this is the number of seconds in a normal year\")\n",
    "    print(365 * 24 * 60 * 60)\n",
    "\n"
   ]
  },
  {
   "cell_type": "code",
   "execution_count": null,
   "metadata": {},
   "outputs": [
    {
     "ename": "SyntaxError",
     "evalue": "unterminated string literal (detected at line 4) (4159549135.py, line 4)",
     "output_type": "error",
     "traceback": [
      "\u001b[0;36m  Cell \u001b[0;32mIn[5], line 4\u001b[0;36m\u001b[0m\n\u001b[0;31m    print(\"How many can you answer correctly?)\u001b[0m\n\u001b[0m          ^\u001b[0m\n\u001b[0;31mSyntaxError\u001b[0m\u001b[0;31m:\u001b[0m unterminated string literal (detected at line 4)\n"
     ]
    }
   ],
   "source": [
    "#Learning how to debug-- Challenge\n",
    "print(\"100 Days of Code QUIZ\")\n",
    "print(\"How many can you answer correctly?)\n",
    "ans1 = (\"What language are we writing in?\")\n",
    "if ans1 == \"python\":\n",
    "  print(\"Correct\")\n",
    "else:\n",
    "  print(\"Nope🙈\n",
    "ans2 = input(\"Which lesson number is this?\")\n",
    "if(ans2>12):\n",
    "print(\"We're not quite that far yet\")\n",
    "else:\n",
    "  print(\"We've gone well past that!\")\n",
    "elif(ans2==12):\n",
    "  print(\"That's right!\"\n",
    "        "
   ]
  },
  {
   "cell_type": "code",
   "execution_count": 7,
   "metadata": {},
   "outputs": [
    {
     "name": "stdout",
     "output_type": "stream",
     "text": [
      "100 Days of Code QUIZ\n",
      "\n",
      "How many can you answer correctly?\n",
      "Correct\n",
      "That's right!\n"
     ]
    }
   ],
   "source": [
    "print(\"100 Days of Code QUIZ\")\n",
    "print()\n",
    "print(\"How many can you answer correctly?\")\n",
    "ans1 = input(\"What language are we writing in?\")\n",
    "if ans1 == \"python\":\n",
    "  print(\"Correct\")\n",
    "else:\n",
    "  print(\"Nope🙈\")\n",
    "\n",
    "ans2 = int(input(\"Which lesson number is this?\"))\n",
    "if(ans2>12):\n",
    "  print(\"We're not quite that far yet\")\n",
    "\n",
    "elif(ans2==12):\n",
    "  print(\"That's right!\")\n",
    "else:\n",
    "  print(\"We've gone well past that!\")\n"
   ]
  },
  {
   "cell_type": "code",
   "execution_count": null,
   "metadata": {},
   "outputs": [],
   "source": []
  }
 ],
 "metadata": {
  "kernelspec": {
   "display_name": "base",
   "language": "python",
   "name": "python3"
  },
  "language_info": {
   "codemirror_mode": {
    "name": "ipython",
    "version": 3
   },
   "file_extension": ".py",
   "mimetype": "text/x-python",
   "name": "python",
   "nbconvert_exporter": "python",
   "pygments_lexer": "ipython3",
   "version": "3.12.7"
  }
 },
 "nbformat": 4,
 "nbformat_minor": 2
}
