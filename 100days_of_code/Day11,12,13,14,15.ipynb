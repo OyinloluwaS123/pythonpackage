{
 "cells": [
  {
   "cell_type": "code",
   "execution_count": 4,
   "metadata": {},
   "outputs": [
    {
     "name": "stdout",
     "output_type": "stream",
     "text": [
      "Let's calculate the number of seconds in a year\n",
      "this is the number of seconds in a leap year\n",
      "31622400\n"
     ]
    }
   ],
   "source": [
    "#How many seconds are in a year\n",
    "print (\"Let's calculate the number of seconds in a year\")\n",
    "year = input(\"would you like to calculate a leap year or a normal year\")\n",
    "if year == \"leap year\":\n",
    "    print(\"this is the number of seconds in a leap year\")\n",
    "    print(366 * 24 * 60 * 60)\n",
    "else:\n",
    "    print(\"this is the number of seconds in a normal year\")\n",
    "    print(365 * 24 * 60 * 60)\n",
    "\n"
   ]
  },
  {
   "cell_type": "code",
   "execution_count": null,
   "metadata": {},
   "outputs": [
    {
     "ename": "SyntaxError",
     "evalue": "unterminated string literal (detected at line 4) (4159549135.py, line 4)",
     "output_type": "error",
     "traceback": [
      "\u001b[0;36m  Cell \u001b[0;32mIn[5], line 4\u001b[0;36m\u001b[0m\n\u001b[0;31m    print(\"How many can you answer correctly?)\u001b[0m\n\u001b[0m          ^\u001b[0m\n\u001b[0;31mSyntaxError\u001b[0m\u001b[0;31m:\u001b[0m unterminated string literal (detected at line 4)\n"
     ]
    }
   ],
   "source": [
    "#Learning how to debug-- Challenge\n",
    "print(\"100 Days of Code QUIZ\")\n",
    "print(\"How many can you answer correctly?)\n",
    "ans1 = (\"What language are we writing in?\")\n",
    "if ans1 == \"python\":\n",
    "  print(\"Correct\")\n",
    "else:\n",
    "  print(\"Nope🙈\n",
    "ans2 = input(\"Which lesson number is this?\")\n",
    "if(ans2>12):\n",
    "print(\"We're not quite that far yet\")\n",
    "else:\n",
    "  print(\"We've gone well past that!\")\n",
    "elif(ans2==12):\n",
    "  print(\"That's right!\"\n",
    "        "
   ]
  },
  {
   "cell_type": "code",
   "execution_count": 8,
   "metadata": {},
   "outputs": [
    {
     "name": "stdout",
     "output_type": "stream",
     "text": [
      "100 Days of Code QUIZ\n",
      "\n",
      "How many can you answer correctly?\n",
      "Correct\n",
      "That's right!\n"
     ]
    }
   ],
   "source": [
    "#Learning how to debug-- Challenge solution\n",
    "\n",
    "print(\"100 Days of Code QUIZ\")\n",
    "print()\n",
    "print(\"How many can you answer correctly?\")\n",
    "ans1 = input(\"What language are we writing in?\")\n",
    "if ans1 == \"python\":\n",
    "  print(\"Correct\")\n",
    "else:\n",
    "  print(\"Nope🙈\")\n",
    "\n",
    "ans2 = int(input(\"Which lesson number is this?\"))\n",
    "if(ans2>12):\n",
    "  print(\"We're not quite that far yet\")\n",
    "\n",
    "elif(ans2==12):\n",
    "  print(\"That's right!\")\n",
    "else:\n",
    "  print(\"We've gone well past that!\")\n"
   ]
  },
  {
   "cell_type": "code",
   "execution_count": null,
   "metadata": {},
   "outputs": [
    {
     "name": "stdout",
     "output_type": "stream",
     "text": [
      "Exam grade calculator\n",
      "wow maths That's an interesting course\n",
      "Here is the result of your test\n",
      "if the score on your exam is 79 and the maximum score is 100\n",
      "you got 79.0 %, which is an B\n"
     ]
    }
   ],
   "source": [
    "#Challenge,What grade did I get?\n",
    "\n",
    "print (\"Exam grade calculator\")\n",
    "examName = input(\"which test did you just sit for?\")\n",
    "print (\"wow\", examName, \"That's an interesting course\")\n",
    "maxScore = int(input(\"what is the maximum score you could get on the test?\"))\n",
    "yourScore = int(input(\"what did you get on the score\"))\n",
    "\n",
    "result = (yourScore/maxScore) * 100\n",
    "print (\"Here is the result of your test\")\n",
    "print (\"if the score on your exam is\", yourScore, \"and the maximum score is\", maxScore)\n",
    "if 90 <= result <= 100:\n",
    "    print (\"you got\", result, '%, which is an A+')\n",
    "\n",
    "if 80 <= result <= 89:\n",
    "    print (\"you got\", result, '%, which is an A-')\n",
    "\n",
    "if  70 <= result <= 79:\n",
    "    print (\"you got\", result, '%, which is an B')\n",
    "\n",
    "if 60 <= result <= 69:\n",
    "    print (\"you got\", result, '%, which is an c')\n",
    "\n",
    "if 50 <= result <= 59:\n",
    "    print (\"you got\", result, '%, which is an D')\n",
    "\n",
    "if 40 <= result <= 49:\n",
    "    print (\"you got\", result, '%, which is an U')\n"
   ]
  },
  {
   "cell_type": "code",
   "execution_count": 6,
   "metadata": {},
   "outputs": [
    {
     "name": "stdout",
     "output_type": "stream",
     "text": [
      "welcome to Rock, Paper, Scissors game\n",
      "Let's get started!\n",
      "Player 2 wins!\n",
      "Thank you for playing\n"
     ]
    }
   ],
   "source": [
    "#Rock, paper, scissors game\n",
    "\n",
    "from getpass import getpass as input\n",
    "\n",
    "print(\"welcome to Rock, Paper, Scissors game\")\n",
    "print(\"Let's get started!\")\n",
    "\n",
    "player1 = input(\"Player 1, enter Rock, Paper, or Scissors: \").lower()\n",
    "player2 = input(\"Player 2, enter Rock, Paper, or Scissors: \").lower()\n",
    "\n",
    "if player1 == player2:\n",
    "    print(\"It's a tie!\")\n",
    "elif player1 == \"rock\":\n",
    "    if player2 == \"scissors\":\n",
    "        print(\"Player 1 wins!\")\n",
    "    else:\n",
    "        print(\"Player 2 wins!\")\n",
    "elif player1 == \"paper\":\n",
    "    if player2 == \"rock\":\n",
    "        print(\"Player 1 wins!\")\n",
    "    else:\n",
    "        print(\"Player 2 wins!\")\n",
    "elif player1 == \"scissors\":\n",
    "    if player2 == \"paper\":\n",
    "        print(\"Player 1 wins!\")\n",
    "    else:\n",
    "        print(\"Player 2 wins!\")\n",
    "else:\n",
    "    print(\"Invalid input. Please try again.\")\n",
    "\n",
    "print(\"Thank you for playing\")"
   ]
  },
  {
   "cell_type": "code",
   "execution_count": null,
   "metadata": {},
   "outputs": [
    {
     "name": "stdout",
     "output_type": "stream",
     "text": [
      "0\n",
      "1\n",
      "2\n",
      "3\n",
      "4\n",
      "5\n",
      "6\n",
      "7\n",
      "8\n",
      "9\n",
      "10\n"
     ]
    }
   ],
   "source": [
    "#Learning about loops\n",
    "counter = 0\n",
    "while counter <= 10:\n",
    "    print (counter)\n",
    "    counter += 1\n",
    "\n",
    "\n"
   ]
  },
  {
   "cell_type": "code",
   "execution_count": 15,
   "metadata": {},
   "outputs": [
    {
     "name": "stdout",
     "output_type": "stream",
     "text": [
      "let's play a game!\n",
      "it's called what sound does an animal make?\n",
      "A cat goes meow\n",
      "A cow goes mooooo!\n",
      "A dog goes woof\n",
      "i'm sorry, I do not know this animal\n",
      "Thank you for playing\n"
     ]
    }
   ],
   "source": [
    "#Loop Challenge\n",
    "\n",
    "print(\"let's play a game!\")\n",
    "print(\"it's called what sound does an animal make?\")\n",
    "\n",
    "exit = ''\n",
    "while exit != \"yes\":\n",
    "    animal = input(\"which animal would you like to hear\")\n",
    "\n",
    "    if animal == \"cow\":\n",
    "        print(\"A cow goes mooooo!\")\n",
    "        exit = input(\"Do you want to exit this game?\")\n",
    "    \n",
    "    elif animal == \"dog\":\n",
    "        print(\"A dog goes woof\")\n",
    "        exit = input(\"Do you want to exit this game?\")\n",
    "\n",
    "    elif animal == \"Cat\".lower():\n",
    "        print(\"A cat goes meow\")\n",
    "        exit = input(\"Do you want to exit this game?\")\n",
    "\n",
    "    else:\n",
    "        print(\"i'm sorry, I do not know this animal\")\n",
    "        exit = input(\"Do you want to exit this game?\")\n",
    "        print(\"Thank you for playing\")\n"
   ]
  },
  {
   "cell_type": "code",
   "execution_count": null,
   "metadata": {},
   "outputs": [],
   "source": []
  }
 ],
 "metadata": {
  "kernelspec": {
   "display_name": "base",
   "language": "python",
   "name": "python3"
  },
  "language_info": {
   "codemirror_mode": {
    "name": "ipython",
    "version": 3
   },
   "file_extension": ".py",
   "mimetype": "text/x-python",
   "name": "python",
   "nbconvert_exporter": "python",
   "pygments_lexer": "ipython3",
   "version": "3.12.7"
  }
 },
 "nbformat": 4,
 "nbformat_minor": 2
}
