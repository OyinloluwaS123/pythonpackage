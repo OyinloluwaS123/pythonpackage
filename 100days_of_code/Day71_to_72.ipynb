{
 "cells": [
  {
   "cell_type": "code",
   "execution_count": 10,
   "metadata": {},
   "outputs": [
    {
     "name": "stdout",
     "output_type": "stream",
     "text": [
      "User registered successfully!\n",
      "\n",
      "📄 Registered Users:\n",
      "Username: Daniella, Hashed Password: b'$2b$12$1PTepUlQVt3wbtHylwt0xOGhEggPgFHGyGjz5br.HRpldaEpB5N2u'\n",
      "Username: Solape1234, Hashed Password: b'$2b$12$LOFV7HZg5rnhsw534Q1Te.7S1wZLhHdXmqXZ1v8wNeOGRe48JSKLq'\n",
      "Username: Dolapo, Hashed Password: b'$2b$12$C..neQn8EGQ1hrBm.poINOAcq96v1d03ERjr1.Fb4FrsbPHFhGqHi'\n"
     ]
    }
   ],
   "source": [
    "#hashing and salting passwords\n",
    "\n",
    "import sqlite3\n",
    "import bcrypt\n",
    "\n",
    "conn = sqlite3.connect('users.db')  \n",
    "cursor = conn.cursor()\n",
    "\n",
    "cursor.execute('''\n",
    "CREATE TABLE IF NOT EXISTS users (\n",
    "    id INTEGER PRIMARY KEY AUTOINCREMENT,\n",
    "    username TEXT NOT NULL,\n",
    "    password TEXT NOT NULL\n",
    ")\n",
    "''')\n",
    "conn.commit()\n",
    "\n",
    "\n",
    "def hash_password(password):\n",
    "    salt = bcrypt.gensalt()\n",
    "    hashed = bcrypt.hashpw(password.encode('utf-8'), salt)\n",
    "    return hashed\n",
    "\n",
    "def register_user(username, plain_password):\n",
    "    hashed_password = hash_password(plain_password)\n",
    "    cursor.execute(\"INSERT INTO users (username, password) VALUES (?, ?)\", (username, hashed_password))\n",
    "    conn.commit()\n",
    "    print(\"User registered successfully!\")\n",
    "\n",
    "username_input = input(\"Enter username: \")\n",
    "password_input = input(\"Enter password: \")\n",
    "register_user(username_input, password_input)\n",
    "\n",
    "cursor.execute(\"SELECT username, password FROM users\")\n",
    "users = cursor.fetchall()\n",
    "\n",
    "print(\"\\n📄 Registered Users:\")\n",
    "for user in users:\n",
    "    print(f\"Username: {user[0]}, Hashed Password: {user[1]}\")\n",
    "\n",
    "conn.close()"
   ]
  },
  {
   "cell_type": "code",
   "execution_count": null,
   "metadata": {},
   "outputs": [],
   "source": []
  },
  {
   "cell_type": "code",
   "execution_count": null,
   "metadata": {},
   "outputs": [],
   "source": []
  }
 ],
 "metadata": {
  "kernelspec": {
   "display_name": "base",
   "language": "python",
   "name": "python3"
  },
  "language_info": {
   "codemirror_mode": {
    "name": "ipython",
    "version": 3
   },
   "file_extension": ".py",
   "mimetype": "text/x-python",
   "name": "python",
   "nbconvert_exporter": "python",
   "pygments_lexer": "ipython3",
   "version": "3.12.7"
  }
 },
 "nbformat": 4,
 "nbformat_minor": 2
}
