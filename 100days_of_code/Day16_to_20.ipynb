{
 "cells": [
  {
   "cell_type": "code",
   "execution_count": null,
   "metadata": {},
   "outputs": [
    {
     "name": "stdout",
     "output_type": "stream",
     "text": [
      "This program is running\n",
      "This program is running\n",
      "This program is running\n",
      "Aww, I thought we were having fun\n"
     ]
    }
   ],
   "source": [
    "#Learning about \"while true\" loops\n",
    "\n",
    "while True:\n",
    "    print(\"This program is running\")\n",
    "    goAgain = input(\"Would you like to go again?\")\n",
    "    if goAgain == 'no':\n",
    "        break\n",
    "print(\"Aww, I thought we were having fun\")\n",
    "\n"
   ]
  },
  {
   "cell_type": "code",
   "execution_count": 16,
   "metadata": {},
   "outputs": [
    {
     "name": "stdout",
     "output_type": "stream",
     "text": [
      "Let's play a game\n",
      "Let's see how well you know me\n",
      "Enter the missing word to this lyric\n",
      "OMG, you know me so well!\n",
      "Thank you for playing!\n"
     ]
    }
   ],
   "source": [
    "#Challenge - Create a game that allows a friend to complete your favourite lyric and tell them how many attempts it took to complete it.\n",
    "\n",
    "print(\"Let's play a game\")\n",
    "print(\"Let's see how well you know me\")\n",
    "print(\"Enter the missing word to this lyric\")\n",
    "\n",
    "count = 0\n",
    "exit = ''\n",
    "while exit != \"yes\":\n",
    "    count += 1\n",
    "    missing_word = input(\"You make my head go ___\")\n",
    "    if missing_word != \"round\":\n",
    "        print (\"Let's try again\")\n",
    "        exit = input(\"Do you want to exit this game?\")\n",
    "        if exit == \"yes\":\n",
    "            print(\"wow, you dont know me at all and you're not even trying\")\n",
    "            print(\"well, thank you for playing\")\n",
    "            break\n",
    "    else:\n",
    "        break\n",
    "\n",
    "if count == 1 and missing_word == \"round\":\n",
    "    print(\"OMG, you know me so well!\")\n",
    "    print(\"Thank you for playing!\")\n",
    "\n",
    "if count > 1:\n",
    "    print(\"Thank you for playing\")\n",
    "    print(\"Welldone,you got it after\", count, \"attempts\")"
   ]
  },
  {
   "cell_type": "code",
   "execution_count": 27,
   "metadata": {},
   "outputs": [
    {
     "name": "stdout",
     "output_type": "stream",
     "text": [
      "E P I C  ROCK PAPER SCISSOR  B A T T L E\n",
      "Please,enter a valid move!\n",
      "Player 1 wins!\n",
      "Please,enter a valid move!\n",
      "Excellent game, player 1 scores: 1  Player 2 scores: 0  you did 3 rounds\n"
     ]
    }
   ],
   "source": [
    "from getpass import getpass as input\n",
    "\n",
    "print(\"E P I C  ROCK PAPER SCISSOR  B A T T L E\")\n",
    "\n",
    "round = 0\n",
    "player1_score = 0\n",
    "player2_score = 0\n",
    "\n",
    "while True:\n",
    "  player_1 = input(\"Player 1, select your move (R, P or S): \")\n",
    "  player_2 = input(\"Player 2, select your move (R, P or S): \")\n",
    "  \n",
    "  round += 1\n",
    "  if round == 4:\n",
    "    break\n",
    "  \n",
    "  elif player_1 == \"R\" and player_2 == \"R\":\n",
    "    print(\"It's a tie!\")\n",
    "  \n",
    "  elif player_1 == \"R\" and player_2 == \"P\":\n",
    "    print(\"Player 2 wins!\")\n",
    "    player1_score += 0\n",
    "    player2_score += 1\n",
    "  \n",
    "  elif player_1 == \"R\" and player_2 == \"S\":\n",
    "    print(\"Player 1 wins!\")\n",
    "    player1_score += 1\n",
    "    player2_score += 0\n",
    "  \n",
    "  elif player_1 == \"P\" and player_2 == \"R\":\n",
    "    print(\"Player 1 wins!\")\n",
    "    player1_score += 1\n",
    "    player2_score += 0\n",
    "  \n",
    "  elif player_1 == \"P\" and player_2 == \"P\":\n",
    "    print(\"It's a tie!\")\n",
    "  \n",
    "  elif player_1 == \"P\" and player_2 == \"S\":\n",
    "    print(\"Player 2 wins!\")\n",
    "    player1_score += 0\n",
    "    player2_score += 1\n",
    "  \n",
    "  elif player_1 == \"S\" and player_2 == \"R\":\n",
    "    print(\"Player 2 wins!\")\n",
    "    player1_score += 0\n",
    "    player2_score += 1\n",
    "  \n",
    "  elif player_1 == \"S\" and player_2 == \"P\":\n",
    "    print(\"Player 1 wins!\")\n",
    "    player1_score += 1\n",
    "    player2_score += 0\n",
    "  \n",
    "  elif player_1 == \"S\" and player_2 == \"S\":\n",
    "    print(\"It's a tie!\")\n",
    "  \n",
    "  else:\n",
    "    print(\"Please,enter a valid move!\")\n",
    "    continue\n",
    "    exit()\n",
    "\n",
    "print(\"Excellent game, player 1 scores:\", player1_score, \" Player 2 scores:\", player2_score, \" you did\", round - 1, \"rounds\")"
   ]
  },
  {
   "cell_type": "code",
   "execution_count": 38,
   "metadata": {},
   "outputs": [
    {
     "name": "stdout",
     "output_type": "stream",
     "text": [
      "Hey, let us play a game\n",
      "It's called One-hundred-to-one\n",
      "I've selected a number between 1 and 100 and I want you to guess that number\n",
      "Thats the wrong number, it is too high\n",
      "Thats the wrong number, it is too high\n",
      "Thank you for playing\n",
      "Welldone,you got it after 3 attempts\n"
     ]
    }
   ],
   "source": [
    "#Challenge - Guess the number guessing game\n",
    "\n",
    "print (\"Hey, let us play a game\")\n",
    "print(\"It's called One-hundred-to-one\")\n",
    "print(\"I've selected a number between 1 and 100 and I want you to guess that number\")\n",
    "\n",
    "count = 0\n",
    "exit = ''\n",
    "while exit != \"no\":\n",
    "    count += 1\n",
    "    guessing_number = int(input(\"Guess a number between 1 and 1 hundred\"))\n",
    "    if guessing_number < 50 :\n",
    "        print (\"Thats the wrong number, it is too low\")\n",
    "        exit = input(\"Would you like to try again?\")\n",
    "        if exit == \"no\":\n",
    "            print(\"oh, given up so soon? Well, thank you for playing\")\n",
    "            break\n",
    "\n",
    "    if guessing_number > 50 :\n",
    "        print (\"Thats the wrong number, it is too high\")\n",
    "        exit = input(\"Would you like to try again?\")\n",
    "        if exit == \"no\":\n",
    "            print(\"oh, given up so soon? Well, thank you for playing\")\n",
    "            break\n",
    "    else:\n",
    "        break\n",
    "\n",
    "if guessing_number == 50 :\n",
    "    print(\"Thank you for playing\")\n",
    "    print(\"Welldone,you got it after\", count, \"attempts\")\n"
   ]
  },
  {
   "cell_type": "code",
   "execution_count": 42,
   "metadata": {},
   "outputs": [
    {
     "name": "stdout",
     "output_type": "stream",
     "text": [
      "0\n",
      "1\n",
      "3\n",
      "6\n",
      "10\n",
      "15\n",
      "21\n",
      "28\n",
      "36\n",
      "45\n"
     ]
    }
   ],
   "source": [
    "# Learning about \"for loops\"\n",
    "\n",
    "total = 0\n",
    "for number in range (0,10):\n",
    "    total += number\n",
    "    print(total)\n"
   ]
  },
  {
   "cell_type": "code",
   "execution_count": 92,
   "metadata": {},
   "outputs": [
    {
     "name": "stdout",
     "output_type": "stream",
     "text": [
      "Let's talk finances\n",
      "Loan Calculator, let us calculate how much you would pay back (+ interest )if you borrowed 1000 USD over 10 years\n",
      "your interest over the years equals, in year 1 you will owe 1050.0\n",
      "your interest over the years equals, in year 2 you will owe 1102.5\n",
      "your interest over the years equals, in year 3 you will owe 1157.625\n",
      "your interest over the years equals, in year 4 you will owe 1215.50625\n",
      "your interest over the years equals, in year 5 you will owe 1276.2815624999998\n",
      "your interest over the years equals, in year 6 you will owe 1340.0956406249998\n",
      "your interest over the years equals, in year 7 you will owe 1407.1004226562497\n",
      "your interest over the years equals, in year 8 you will owe 1477.4554437890622\n",
      "your interest over the years equals, in year 9 you will owe 1551.3282159785153\n",
      "your interest over the years equals, in year 10 you will owe 1628.894626777441\n",
      "The total loan paid over the period of 10 years is equal to: 1628.894626777441\n"
     ]
    }
   ],
   "source": [
    "#Day19 Challenge\n",
    "\n",
    "print(\"Let's talk finances\")\n",
    "print(\"Loan Calculator, let us calculate how much you would pay back (+ interest )if you borrowed 1000 USD over 10 years\")\n",
    "\n",
    "sum = 1000\n",
    "interest = 0.05\n",
    "\n",
    "for number in range(1,11):\n",
    "    sum += (sum) * interest\n",
    "    print(\"your interest over the years equals,\", \"in year\", number, \"you will owe\", sum)\n",
    "\n",
    "print(\"The total loan paid over the period of 10 years is equal to:\", sum)\n"
   ]
  },
  {
   "cell_type": "code",
   "execution_count": 97,
   "metadata": {},
   "outputs": [
    {
     "name": "stdout",
     "output_type": "stream",
     "text": [
      "0\n",
      "12\n",
      "24\n",
      "36\n",
      "48\n",
      "60\n",
      "72\n",
      "84\n",
      "96\n"
     ]
    }
   ],
   "source": [
    "#learning about range\n",
    "for i in range(0,100,12):\n",
    "    print (i)"
   ]
  },
  {
   "cell_type": "code",
   "execution_count": 98,
   "metadata": {},
   "outputs": [
    {
     "name": "stdout",
     "output_type": "stream",
     "text": [
      "Hello, lets play a game\n",
      "Input a number and I'll give you however much increments of numbers you need, of said number\n",
      "200\n",
      "220\n",
      "240\n",
      "260\n",
      "280\n"
     ]
    }
   ],
   "source": [
    "print (\"Hello, lets play a game\")\n",
    "print (\"Input a number and I'll give you however much increments of numbers you need, of said number\")\n",
    "\n",
    "start_no = int(input(\"What number would you like to start with?:\"))\n",
    "end_no = int(input(\"What number would you like to end with?:\"))\n",
    "increment = int(input(\"What increment would you like?:\"))\n",
    "\n",
    "for i in range(start_no, end_no, increment):\n",
    "    print (i)"
   ]
  }
 ],
 "metadata": {
  "kernelspec": {
   "display_name": "base",
   "language": "python",
   "name": "python3"
  },
  "language_info": {
   "codemirror_mode": {
    "name": "ipython",
    "version": 3
   },
   "file_extension": ".py",
   "mimetype": "text/x-python",
   "name": "python",
   "nbconvert_exporter": "python",
   "pygments_lexer": "ipython3",
   "version": "3.12.7"
  }
 },
 "nbformat": 4,
 "nbformat_minor": 2
}
