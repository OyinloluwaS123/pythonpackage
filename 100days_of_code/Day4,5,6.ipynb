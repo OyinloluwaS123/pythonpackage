{
 "cells": [
  {
   "cell_type": "code",
   "execution_count": 8,
   "metadata": {},
   "outputs": [
    {
     "name": "stdout",
     "output_type": "stream",
     "text": [
      "Uh,y ou've been given a \u001b[31m warning\u001b[0m for being a bad,bad person.\n"
     ]
    }
   ],
   "source": [
    "print(\"Uh,y ou've been given a\", \"\\033[31m\", \"warning\" \"\\033[0m\", \"for being a bad,bad person.\")"
   ]
  },
  {
   "cell_type": "code",
   "execution_count": 2,
   "metadata": {},
   "outputs": [
    {
     "name": "stdout",
     "output_type": "stream",
     "text": [
      "You're such a wonderful person and that is why \u001b[33m every one\u001b[0m \u001b[35m likes\u001b[0m you and youre also an excellent programmer.\n"
     ]
    }
   ],
   "source": [
    "print(\"You're such a wonderful person and that is why\", \"\\033[33m\", \"every one\" \"\\033[0m\",  \"\\033[35m\", \"likes\" \"\\033[0m\",\n",
    "\"you and youre also an excellent programmer.\")\n"
   ]
  },
  {
   "cell_type": "code",
   "execution_count": 10,
   "metadata": {},
   "outputs": [
    {
     "name": "stdout",
     "output_type": "stream",
     "text": [
      "welcome oyinloluwa\n",
      "Youre the most beautiful woman in the world\n"
     ]
    }
   ],
   "source": [
    "myname = input ('whats your name?:')\n",
    "if myname == 'oyinloluwa':\n",
    "    print('welcome', myname)\n",
    "    print('Youre the most beautiful woman in the world')\n",
    "else:\n",
    "    print('who on earth are you?')\n",
    "\n"
   ]
  },
  {
   "cell_type": "code",
   "execution_count": 11,
   "metadata": {},
   "outputs": [
    {
     "name": "stdout",
     "output_type": "stream",
     "text": [
      "Marvel movie Character Creator\n",
      "\n",
      "then you're not superman\n",
      "aww, youre not Korg\n",
      "Aha, youre captain marvel\n"
     ]
    }
   ],
   "source": [
    "print (\"Marvel movie Character Creator\")\n",
    "print()\n",
    "hanging_around = input('do you like hanging around?')\n",
    "if hanging_around == 'no':\n",
    "    print (\"then you're not superman\")\n",
    "\n",
    "gravelly_voice = input(\"do you have a gravelly voice?\")\n",
    "if gravelly_voice == 'no':\n",
    "    print ('aww, youre not Korg')\n",
    "\n",
    "marvelous = input('do you often feel marvelous?')\n",
    "if marvelous == 'yes':\n",
    "    print('Aha, youre captain marvel')"
   ]
  },
  {
   "cell_type": "code",
   "execution_count": 12,
   "metadata": {},
   "outputs": [
    {
     "name": "stdout",
     "output_type": "stream",
     "text": [
      "SECURE LOGIN\n",
      "username is not recognised\n"
     ]
    }
   ],
   "source": [
    "print('SECURE LOGIN')\n",
    "username = input(\"what is your username?\")\n",
    "if username == 'Oyin123':\n",
    "    print ('welcome omo odo rere')\n",
    "\n",
    "elif username == 'rice456':\n",
    "    print('Hey there, Rice')\n",
    "\n",
    "else:\n",
    "    print('username is not recognised')\n",
    "    "
   ]
  },
  {
   "cell_type": "code",
   "execution_count": 13,
   "metadata": {},
   "outputs": [
    {
     "name": "stdout",
     "output_type": "stream",
     "text": [
      "MY LOGIN SYSTEM\n",
      "welcome, happy to connect with you\n"
     ]
    }
   ],
   "source": [
    "print(\"MY LOGIN SYSTEM\")\n",
    "username = input(\"whats your username?:\")\n",
    "password = input(\"whats your password?:\")\n",
    "\n",
    "if username == \"stanley\" and password == 'stan123':\n",
    "    print('welcome, happy to connect with you')\n",
    "\n",
    "elif username == 'dara' and password == 'dara123':\n",
    "    print (\"welcome Dara\")\n",
    "\n",
    "else: \n",
    "    print (\"we do not recognise your details\")\n"
   ]
  },
  {
   "cell_type": "code",
   "execution_count": null,
   "metadata": {},
   "outputs": [],
   "source": []
  }
 ],
 "metadata": {
  "kernelspec": {
   "display_name": "base",
   "language": "python",
   "name": "python3"
  },
  "language_info": {
   "codemirror_mode": {
    "name": "ipython",
    "version": 3
   },
   "file_extension": ".py",
   "mimetype": "text/x-python",
   "name": "python",
   "nbconvert_exporter": "python",
   "pygments_lexer": "ipython3",
   "version": "3.12.7"
  }
 },
 "nbformat": 4,
 "nbformat_minor": 2
}
