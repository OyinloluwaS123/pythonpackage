{
 "cells": [
  {
   "cell_type": "code",
   "execution_count": 6,
   "metadata": {},
   "outputs": [
    {
     "name": "stdout",
     "output_type": "stream",
     "text": [
      "Uh,y ou've been given a \u001b[31m warning\u001b[0m for being a bad,bad person.\n"
     ]
    }
   ],
   "source": [
    "print(\"Uh,y ou've been given a\", \"\\033[31m\", \"warning\" \"\\033[0m\", \"for being a bad,bad person.\")"
   ]
  },
  {
   "cell_type": "code",
   "execution_count": null,
   "metadata": {},
   "outputs": [
    {
     "name": "stdout",
     "output_type": "stream",
     "text": [
      "You're such a naughty person and that is why \u001b[33m no one\u001b[0m \u001b[35m likes\u001b[0m and youre also a bad,bad person.\n"
     ]
    }
   ],
   "source": [
    "print(\"You're such a naughty person and that is why\", \"\\033[33m\", \"no one\" \"\\033[0m\",  \"\\033[35m\", \"likes\" \"\\033[0m\",\n",
    "\"and youre also a badsss,bad person.\")"
   ]
  }
 ],
 "metadata": {
  "kernelspec": {
   "display_name": "base",
   "language": "python",
   "name": "python3"
  },
  "language_info": {
   "codemirror_mode": {
    "name": "ipython",
    "version": 3
   },
   "file_extension": ".py",
   "mimetype": "text/x-python",
   "name": "python",
   "nbconvert_exporter": "python",
   "pygments_lexer": "ipython3",
   "version": "3.12.7"
  }
 },
 "nbformat": 4,
 "nbformat_minor": 2
}
