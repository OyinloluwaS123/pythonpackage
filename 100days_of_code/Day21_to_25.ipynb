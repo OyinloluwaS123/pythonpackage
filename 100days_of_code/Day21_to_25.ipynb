{
 "cells": [
  {
   "cell_type": "code",
   "execution_count": 17,
   "metadata": {},
   "outputs": [
    {
     "name": "stdout",
     "output_type": "stream",
     "text": [
      "Welcome to this mathematics calculation game\n",
      "It helps you to know your multiplication better\n",
      "wrong answer, continue\n",
      "wrong answer, continue\n",
      "wrong answer, continue\n",
      "wrong answer, continue\n",
      "wrong answer, continue\n",
      "wrong answer, continue\n",
      "wrong answer, continue\n",
      "wrong answer, continue\n",
      "wrong answer, continue\n",
      "wrong answer, continue\n",
      "you got 0 out of 10 correct!\n"
     ]
    }
   ],
   "source": [
    "#Challenge - Maths Fact Game\n",
    "\n",
    "print(\"Welcome to this mathematics calculation game\")\n",
    "print(\"It helps you to know your multiplication better\")\n",
    "\n",
    "counter = 0\n",
    "number = int(input(\"which number would you like to know the multiplication table?\"))\n",
    "for i in range (1,11):\n",
    "    right_answer = number * i\n",
    "    answer = int(input(f'{i} * {number} =: '))\n",
    "    if answer == right_answer:\n",
    "        counter +=1\n",
    "    else:\n",
    "        print(\"wrong answer, continue\")\n",
    "        continue\n",
    "print(f'you got {counter} out of 10 correct!')\n",
    "\n"
   ]
  },
  {
   "cell_type": "code",
   "execution_count": 24,
   "metadata": {},
   "outputs": [
    {
     "name": "stdout",
     "output_type": "stream",
     "text": [
      "32\n",
      "79\n",
      "25\n",
      "67\n",
      "20\n",
      "94\n",
      "75\n",
      "65\n",
      "96\n",
      "7\n"
     ]
    }
   ],
   "source": [
    "import random\n",
    "\n",
    "\n",
    "for i in range(10):\n",
    "    mynumber = random.randint(1,100)\n",
    "    print(mynumber)\n"
   ]
  },
  {
   "cell_type": "code",
   "execution_count": null,
   "metadata": {},
   "outputs": [
    {
     "name": "stdout",
     "output_type": "stream",
     "text": [
      "you rolled a number 1\n",
      "you rolled a number 1\n",
      "you rolled a number 6\n",
      "you rolled a number 4\n",
      "you rolled a number 5\n",
      "you rolled a number 1\n",
      "you rolled a number 6\n",
      "you rolled a number 3\n",
      "you rolled a number 5\n",
      "you rolled a number 4\n"
     ]
    }
   ],
   "source": [
    "#Subroutines or Functions\n",
    "\n",
    "def rollDice():\n",
    "    import random\n",
    "    dice = random.randint(1,6)\n",
    "    print(\"you rolled a number\", dice)\n",
    "\n",
    "#CallTheSubroutine\n",
    "\n",
    "for i in range(10):\n",
    "    rollDice()"
   ]
  },
  {
   "cell_type": "code",
   "execution_count": 32,
   "metadata": {},
   "outputs": [
    {
     "name": "stdout",
     "output_type": "stream",
     "text": [
      "let's count\n",
      "1\n",
      "2\n",
      "3\n",
      "4\n",
      "5\n"
     ]
    }
   ],
   "source": [
    "def count_to_five():\n",
    "    print(\"let's count\")\n",
    "    for i in range(1,6):\n",
    "        print (i)\n",
    "\n",
    "count_to_five()"
   ]
  },
  {
   "cell_type": "code",
   "execution_count": null,
   "metadata": {},
   "outputs": [
    {
     "name": "stdout",
     "output_type": "stream",
     "text": [
      "Welcome to Replit login\n",
      "David\n",
      "DoorIsBanana\n",
      "Username or Password incorrect\n"
     ]
    }
   ],
   "source": [
    "#Challenge - Create a login system for a website taking input such as name and password\n",
    "\n",
    "print(\"Welcome to Replit login\")\n",
    "def login():\n",
    "    counter = 0\n",
    "    name = input(\"What is your username?\")\n",
    "    print(name)\n",
    "    password = input(\"What is your password?\")\n",
    "    print(password)\n",
    "    if name == \"David123\" and password == \"DoorIsBanana\":\n",
    "        print(\"welcome, happy to login\")\n",
    "    else:\n",
    "        counter += 1\n",
    "        print('Username or Password incorrect')\n",
    "\n",
    "login()"
   ]
  },
  {
   "cell_type": "code",
   "execution_count": 38,
   "metadata": {},
   "outputs": [
    {
     "name": "stdout",
     "output_type": "stream",
     "text": [
      "Hhmmm, chocolate cake tastes amazing\n"
     ]
    }
   ],
   "source": [
    "#Creating an argument in a Subroutine/Function\n",
    "\n",
    "def whichCake(ingredient):\n",
    "    if ingredient == \"Chocolate\":\n",
    "        print(\"Hhmmm, chocolate cake tastes amazing\")\n",
    "    elif ingredient == \"Brocolli\":\n",
    "        print(\"who gives brocolli as desert\")\n",
    "    else:\n",
    "        print(\"Yh, thats great I suppose...\")\n",
    "\n",
    "whichCake(\"Chocolate\")"
   ]
  },
  {
   "cell_type": "code",
   "execution_count": null,
   "metadata": {},
   "outputs": [
    {
     "name": "stdout",
     "output_type": "stream",
     "text": [
      "you rolled 390\n",
      "See you again..!!\n",
      "you rolled 3\n"
     ]
    }
   ],
   "source": [
    "# Challenge - Call a function that rolls a dice of any number of sides\n",
    "\n",
    "def rollerDice(number):\n",
    "        import random\n",
    "        dice = random.randint(1,number)\n",
    "        print(\"you rolled\", dice)\n",
    "\n",
    "while True:\n",
    "  user = int(input(\"How many sides ? : \"))\n",
    "  rollerDice(user)\n",
    "\n",
    "  ans = input(\"Roll again..? :\")\n",
    "  if ans == 'yes':\n",
    "    continue\n",
    "  else:\n",
    "    print(\"See you again..!!\")\n",
    "    break\n",
    "\n",
    "rollerDice(number)\n",
    "    \n",
    "    "
   ]
  },
  {
   "cell_type": "code",
   "execution_count": 43,
   "metadata": {},
   "outputs": [
    {
     "name": "stdout",
     "output_type": "stream",
     "text": [
      "26756\n"
     ]
    }
   ],
   "source": [
    "def pinPick(number):\n",
    "    import random\n",
    "    pin = ''\n",
    "    for i in range (number):\n",
    "        pin += str (random.randint(0,9))\n",
    "    print (pin)\n",
    "\n",
    "pinPick(5)"
   ]
  },
  {
   "cell_type": "code",
   "execution_count": 46,
   "metadata": {},
   "outputs": [
    {
     "name": "stdout",
     "output_type": "stream",
     "text": [
      "CHARACTER STAT GENERATOR\n",
      "Their health is 12hp\n",
      "Their health is 18hp\n",
      "Their health is 48hp\n",
      "Their health is 40hp\n"
     ]
    }
   ],
   "source": [
    "print(\"CHARACTER STAT GENERATOR\")\n",
    "import random\n",
    "counter = 0\n",
    "def Char_Stat():\n",
    "    name = input(\"Name your warrior: \")\n",
    "    health = random.randint(1,6) * random.randint(1, 8)\n",
    "    return f\"Their health is {health}hp\"\n",
    "\n",
    "while counter < 4:\n",
    "    warrior = Char_Stat()\n",
    "    print(warrior)\n",
    "    counter+=1\n",
    "\n"
   ]
  }
 ],
 "metadata": {
  "kernelspec": {
   "display_name": "base",
   "language": "python",
   "name": "python3"
  },
  "language_info": {
   "codemirror_mode": {
    "name": "ipython",
    "version": 3
   },
   "file_extension": ".py",
   "mimetype": "text/x-python",
   "name": "python",
   "nbconvert_exporter": "python",
   "pygments_lexer": "ipython3",
   "version": "3.12.7"
  }
 },
 "nbformat": 4,
 "nbformat_minor": 2
}
