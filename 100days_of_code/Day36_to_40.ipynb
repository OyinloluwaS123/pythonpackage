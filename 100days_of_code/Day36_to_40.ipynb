{
 "cells": [
  {
   "cell_type": "code",
   "execution_count": null,
   "metadata": {},
   "outputs": [
    {
     "name": "stdout",
     "output_type": "stream",
     "text": [
      "Hello, we've been waiting for you\n"
     ]
    }
   ],
   "source": [
    "# String manipulation\n",
    "\n",
    "name = input(\"what is your name?\")\n",
    "if name == \"David\".lower():\n",
    "    print(\"Hello, we've been waiting for you\")\n",
    "else:\n",
    "    print(\"sorry, we dont recognise you!\")"
   ]
  },
  {
   "cell_type": "code",
   "execution_count": 15,
   "metadata": {},
   "outputs": [
    {
     "name": "stdout",
     "output_type": "stream",
     "text": [
      "Sam Luther\n",
      "Sam Luther\n",
      "Martin King\n",
      "Sam Luther\n",
      "Martin King\n",
      "Jesse  Jags\n",
      "Sam Luther\n",
      "Martin King\n",
      "Jesse  Jags\n",
      "Esther Mccaulay\n",
      "Rolodex is full! Here are all the names:\n",
      "Sam Luther\n",
      "Martin King\n",
      "Jesse  Jags\n",
      "Esther Mccaulay\n"
     ]
    }
   ],
   "source": [
    "#Challenge - Create a rolodex that add peoples surname and first name.\n",
    "\n",
    "rolodex = []\n",
    "\n",
    "def printlist():\n",
    "    for name in rolodex:\n",
    "        print(name)\n",
    "\n",
    "while len(rolodex) < 4:\n",
    "    firstname = input(\"what is your first name?\").capitalize()\n",
    "    lastname = input(\"what is your last name?\").capitalize()\n",
    "    name = f\"{firstname} {lastname}\"\n",
    "    rolodex.append(name)\n",
    "    printlist()\n",
    "\n",
    "print(\"Rolodex is full! Here are all the names:\")\n",
    "printlist()\n"
   ]
  },
  {
   "cell_type": "code",
   "execution_count": 25,
   "metadata": {},
   "outputs": [
    {
     "name": "stdout",
     "output_type": "stream",
     "text": [
      "b\u001b[0m\u001b[33ma\u001b[0mn\u001b[0m\u001b[33ma\u001b[0mn\u001b[0m\u001b[33ma\u001b[0m"
     ]
    }
   ],
   "source": [
    "#Strings and loops\n",
    "\n",
    "vowels =['a', 'e', 'i', 'o', 'u']\n",
    "\n",
    "myString = input(\"type something cool:\")\n",
    "for letter in myString:\n",
    "    if letter.lower() in vowels:\n",
    "        print('\\033[33m', end = '')\n",
    "    print(letter, end = '')\n",
    "    print('\\033[0m', end = '')\n"
   ]
  },
  {
   "cell_type": "code",
   "execution_count": null,
   "metadata": {},
   "outputs": [
    {
     "name": "stdout",
     "output_type": "stream",
     "text": [
      "angel\n",
      "Nope, not in there\n",
      "_____Please, do not repeat same letters\n",
      "congratulations, you found a letter\n",
      "a ____congratulations, you found a letter\n",
      "a _g __congratulations, you found a letter\n",
      "a _g e _congratulations, you found a letter\n",
      "a _g e l congratulations, you found a letter\n",
      "a n g e l you won with 5 left!\n"
     ]
    }
   ],
   "source": [
    "#buidling hangman game\n",
    "import random\n",
    "\n",
    "mylist = ['ife', 'sylvester','dominic', \"saske\", \"naruto\", \"angel\", \"sasha\", \"samuelson\", \"rita\", \"elijah\"]\n",
    "emptylist = []\n",
    "lives = 6\n",
    "\n",
    "shuffleWord = random.choice(mylist)\n",
    "print(shuffleWord)\n",
    "\n",
    "while True:\n",
    "    y = input(\"Please, add a letter:\").lower()\n",
    "    if y in emptylist:\n",
    "        print(\"Please, do not repeat same letters\")\n",
    "        continue\n",
    "    emptylist.append(y)\n",
    "\n",
    "    if y in shuffleWord:\n",
    "        print(\"congratulations, you found a letter\")\n",
    "    else:\n",
    "        print(\"Nope, not in there\")\n",
    "        lives -=  1\n",
    "    \n",
    "    allLetter = True\n",
    "    for words in shuffleWord:\n",
    "        if words in emptylist:\n",
    "            print(words, end = \" \")\n",
    "        else:\n",
    "            print(\"_\", end = '')\n",
    "            allLetter = False\n",
    "    \n",
    "    if allLetter:\n",
    "        print(f\"you won with {lives} left!\")\n",
    "        break\n",
    "\n",
    "    if lives <= 0:\n",
    "        print(\"you ran out of lives!\")\n",
    "\n"
   ]
  },
  {
   "cell_type": "code",
   "execution_count": 39,
   "metadata": {},
   "outputs": [
    {
     "name": "stdout",
     "output_type": "stream",
     "text": [
      "Name:Oyinloluwa\n",
      "birthday:june5\n",
      "tel:08033445566\n",
      "email:andre3000@gmail.com\n"
     ]
    }
   ],
   "source": [
    "#Creating a dictionary\n",
    "\n",
    "name = input(\"name\").capitalize()\n",
    "birthday = input(\"what is your date of birth?\")\n",
    "tel = input('what is your phone number?')\n",
    "email = input(\"what is your email address?\")\n",
    "\n",
    "contact_information = {\"name\": name, \"birthday\": birthday, \"tel\": tel, \"email\": email}\n",
    "print(f'Name:{contact_information['name']}')\n",
    "print(f'birthday:{contact_information['birthday']}')\n",
    "print(f'tel:{contact_information['tel']}')\n",
    "print(f'email:{contact_information['email']}')"
   ]
  },
  {
   "cell_type": "code",
   "execution_count": null,
   "metadata": {},
   "outputs": [],
   "source": []
  }
 ],
 "metadata": {
  "kernelspec": {
   "display_name": "base",
   "language": "python",
   "name": "python3"
  },
  "language_info": {
   "codemirror_mode": {
    "name": "ipython",
    "version": 3
   },
   "file_extension": ".py",
   "mimetype": "text/x-python",
   "name": "python",
   "nbconvert_exporter": "python",
   "pygments_lexer": "ipython3",
   "version": "3.12.7"
  }
 },
 "nbformat": 4,
 "nbformat_minor": 2
}
