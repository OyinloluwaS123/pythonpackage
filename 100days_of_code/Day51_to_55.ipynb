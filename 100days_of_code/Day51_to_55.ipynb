{
 "cells": [
  {
   "cell_type": "code",
   "execution_count": 8,
   "metadata": {},
   "outputs": [
    {
     "name": "stdout",
     "output_type": "stream",
     "text": [
      "\u001b[H\u001b[2JOyin's pizza\n",
      "\n",
      "Your current pizza orders:\n",
      "1. 3x S Onion - $17.97\n",
      "2. 5x S Onion - $29.95\n",
      "\u001b[H\u001b[2JOyin's pizza\n",
      "\n",
      "Your current pizza orders:\n",
      "1. 3x S Onion - $17.97\n",
      "2. 5x S Onion - $29.95\n",
      "You can only make 2 orders at once\n"
     ]
    }
   ],
   "source": [
    "#Challenge - A pizza shop that asks customers for pizza quantity and quality\n",
    "\n",
    "import os, time\n",
    "pizza = []\n",
    "count = 0\n",
    "try:\n",
    "    f = open(\"pizza.txt\", \"r\")\n",
    "    pizza = eval(f.read())\n",
    "    f.close()\n",
    "\n",
    "except:\n",
    "    print(\"ERROR: No existing pizza list, using a blank list\")\n",
    "\n",
    "def addpizza():\n",
    "    name = input(\"what pizza would you like to eat?\")\n",
    "    size = input(\"which size would you like? S/M/L\").lower()\n",
    "    while True:\n",
    "        try:\n",
    "            quantity = int(input(\"how many boxes would you like?\"))\n",
    "            break\n",
    "        except:\n",
    "            print(\"you have to enter a whole number\")\n",
    "    cost = 0\n",
    "    if size == \"s\":\n",
    "        cost = 5.99\n",
    "    elif size == \"m\":\n",
    "        cost = 9.99\n",
    "    else:\n",
    "        cost = 14.99\n",
    "\n",
    "    total = cost * quantity\n",
    "    total = round (total,2)\n",
    "    row = [name,size,quantity, total]\n",
    "    pizza.append(row)\n",
    "\n",
    "def viewpizza():\n",
    "    if not pizza:\n",
    "        print(\"No pizzas ordered yet.\")\n",
    "    else:\n",
    "        print(\"\\nYour current pizza orders:\")\n",
    "        for i, order in enumerate(pizza, start=1):\n",
    "            print(f\"{i}. {order[2]}x {order[1].upper()} {order[0]} - ${order[3]:.2f}\")\n",
    "\n",
    "while True:\n",
    "    time.sleep(1)\n",
    "    os.system('clear')\n",
    "    print(\"Oyin's pizza\")\n",
    "\n",
    "    menu = input(\"1. Add pizza\\n2. View pizzas\\n\")\n",
    "    if menu == \"1\":\n",
    "        addpizza()\n",
    "    else:\n",
    "        viewpizza()\n",
    "\n",
    "    count += 1\n",
    "    if count == 2:\n",
    "        print(\"You can only make 2 orders at once\")\n",
    "        break\n",
    "\n",
    "    f = open(\"pizza.txt\", \"w\")\n",
    "    f.write(str(pizza))\n",
    "    f.close()"
   ]
  },
  {
   "cell_type": "code",
   "execution_count": 14,
   "metadata": {},
   "outputs": [
    {
     "name": "stdout",
     "output_type": "stream",
     "text": [
      "Inventory\n",
      "----------\n",
      "Added\n",
      "Inventory\n",
      "----------\n",
      "Added\n",
      "You can only add 2 items to your inventory\n"
     ]
    }
   ],
   "source": [
    "#Challenge - Video game inventory system, add a menu that allows you to view, edit and add items.\n",
    "\n",
    "import os, time\n",
    "inventory = []\n",
    "count = 0\n",
    "try:\n",
    "    f = open(\"inventory.txt\", \"r\")\n",
    "    inventory = eval(f.read())\n",
    "    f.close()\n",
    "except:\n",
    "    pass\n",
    "\n",
    "def add_item():\n",
    "    item = input(\"what item would you like to add?\")\n",
    "    inventory.append(item)\n",
    "    print(\"Added\")\n",
    "\n",
    "def view_item():\n",
    "     for item in inventory:\n",
    "        print(f\"{item} {inventory.count(item)}\" )\n",
    "\n",
    "def remove_item():\n",
    "    item = input(\"what item would you like to remove?\")\n",
    "    if item in inventory:\n",
    "        inventory.remove(item)\n",
    "        print(\"Removed\")\n",
    "    else:\n",
    "        print(\"sorry, you do not have that item in the list\")\n",
    "\n",
    "\n",
    "while True:\n",
    "    print (\"Inventory\")\n",
    "    print(\"----------\")\n",
    "    menu = input(\"1. Add\\n2: View\\n3: Remove\\n\")\n",
    "    if menu == \"1\":\n",
    "        add_item()\n",
    "    elif menu == \"2\":\n",
    "        view_item()\n",
    "    else:\n",
    "        remove_item()\n",
    "\n",
    "    count += 1\n",
    "    if count == 2:\n",
    "        print(\"You can only add 2 items to your inventory\")\n",
    "        break\n",
    "\n",
    "    f = open(\"inventory.txt\", \"w\")\n",
    "    f.write(str(inventory))\n",
    "    f.close()"
   ]
  },
  {
   "cell_type": "code",
   "execution_count": 6,
   "metadata": {},
   "outputs": [
    {
     "name": "stdout",
     "output_type": "stream",
     "text": [
      "Error: Quicksave not found\n"
     ]
    }
   ],
   "source": [
    "#os library\n",
    "\n",
    "import os\n",
    "files = os.listdir()\n",
    "if \"quicksave.txt\" not in files:\n",
    "    print (\"Error: Quicksave not found\")\n",
    "\n",
    "os.mkdir(\"Day61_to_65.ipynb\")\n",
    "os.rename(\"pizza.txt\", \"foodcourt\")\n"
   ]
  }
 ],
 "metadata": {
  "kernelspec": {
   "display_name": "base",
   "language": "python",
   "name": "python3"
  },
  "language_info": {
   "codemirror_mode": {
    "name": "ipython",
    "version": 3
   },
   "file_extension": ".py",
   "mimetype": "text/x-python",
   "name": "python",
   "nbconvert_exporter": "python",
   "pygments_lexer": "ipython3",
   "version": "3.12.7"
  }
 },
 "nbformat": 4,
 "nbformat_minor": 2
}
