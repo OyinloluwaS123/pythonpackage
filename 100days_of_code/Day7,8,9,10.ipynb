{
 "cells": [
  {
   "cell_type": "code",
   "execution_count": 4,
   "metadata": {},
   "outputs": [
    {
     "name": "stdout",
     "output_type": "stream",
     "text": [
      "Fake Fan Finder\n",
      "oh, really?!\n",
      "You go that by pure chance\n",
      "hhmp\n",
      "SEE, FAKE One piece fan!\n"
     ]
    }
   ],
   "source": [
    "print ('Fake Fan Finder')\n",
    "\n",
    "anime = input (\"whats your favourite anime?:\")\n",
    "if anime == 'one piece':\n",
    "\n",
    "    print (\"oh, really?!\")\n",
    "    name = input('name any one of the character')\n",
    "    if name == \"nami\":\n",
    "        print (\"You go that by pure chance\")\n",
    "        job = input('Okay then, what is her job on the ship')\n",
    "        if job == 'navigator':\n",
    "            print('hhmp')\n",
    "            bounty = input(\"what was her first bounty\")\n",
    "            if bounty == 'Stamina':\n",
    "                print ('okay, youre really a fan')\n",
    "            else:\n",
    "                print('SEE, FAKE One piece fan!')\n",
    "else:\n",
    "    print('wow, thats nice, i like one piece though')\n",
    "\n"
   ]
  },
  {
   "cell_type": "code",
   "execution_count": null,
   "metadata": {},
   "outputs": [],
   "source": []
  },
  {
   "cell_type": "code",
   "execution_count": null,
   "metadata": {},
   "outputs": [],
   "source": []
  }
 ],
 "metadata": {
  "kernelspec": {
   "display_name": "base",
   "language": "python",
   "name": "python3"
  },
  "language_info": {
   "codemirror_mode": {
    "name": "ipython",
    "version": 3
   },
   "file_extension": ".py",
   "mimetype": "text/x-python",
   "name": "python",
   "nbconvert_exporter": "python",
   "pygments_lexer": "ipython3",
   "version": "3.12.7"
  }
 },
 "nbformat": 4,
 "nbformat_minor": 2
}
