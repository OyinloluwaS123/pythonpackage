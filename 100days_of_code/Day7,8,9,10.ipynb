{
 "cells": [
  {
   "cell_type": "code",
   "execution_count": null,
   "metadata": {},
   "outputs": [
    {
     "name": "stdout",
     "output_type": "stream",
     "text": [
      "Fake Fan Finder\n",
      "oh, really?!\n",
      "You go that by pure chance\n",
      "hhmp\n",
      "SEE, FAKE One piece fan!\n"
     ]
    }
   ],
   "source": [
    "print ('Fake Fan Finder')\n",
    "\n",
    "anime = input (\"whats your favourite anime?:\")\n",
    "if anime == 'one piece':\n",
    "\n",
    "    print (\"oh, really?!\")\n",
    "    name = input('name any one of the character')\n",
    "    if name == \"nami\":\n",
    "        print (\"You go that by pure chance\")\n",
    "        job = input('Okay then, what is her job on the ship')\n",
    "        if job == 'navigator':\n",
    "            print('hhmp')\n",
    "            bounty = input(\"what was her first bounty\")\n",
    "            if bounty == 'Stamina':\n",
    "                print ('okay, youre really a fan')\n",
    "            else:\n",
    "                print('SEE, FAKE One piece fan!')\n",
    "else:\n",
    "    print('wow, thats nice, i like one piece though')\n",
    "\n"
   ]
  },
  {
   "cell_type": "code",
   "execution_count": 1,
   "metadata": {},
   "outputs": [
    {
     "name": "stdout",
     "output_type": "stream",
     "text": [
      "Hi Oyin!\n"
     ]
    }
   ],
   "source": [
    "name = input('what is your name')\n",
    "if name == 'oyin' or name == \"Oyin\":\n",
    "    print('Hi Oyin!')\n",
    "else:\n",
    "    print(\"I dont know who you are\")\n",
    "\n"
   ]
  },
  {
   "cell_type": "code",
   "execution_count": null,
   "metadata": {},
   "outputs": [
    {
     "name": "stdout",
     "output_type": "stream",
     "text": [
      "Try again later\n"
     ]
    }
   ],
   "source": [
    "#Learning the difference between integer and string\n",
    "\n",
    "myScore = int(input(\"pls enter a number:\"))\n",
    "if myScore < 1000:\n",
    "    print(\"excellent\")\n",
    "else:\n",
    "    print(\"Try again later\")"
   ]
  },
  {
   "cell_type": "code",
   "execution_count": null,
   "metadata": {},
   "outputs": [
    {
     "name": "stdout",
     "output_type": "stream",
     "text": [
      "this is correct\n"
     ]
    }
   ],
   "source": [
    "#Learning about floating numbers\n",
    "\n",
    "mypi = float (input('What is pi'))\n",
    "if mypi == 3.142:\n",
    "    print(\"this is correct\")\n",
    "else:\n",
    "    print(\"oops, thats wrong\")"
   ]
  },
  {
   "cell_type": "code",
   "execution_count": 17,
   "metadata": {},
   "outputs": [
    {
     "name": "stdout",
     "output_type": "stream",
     "text": [
      "Generation Identifier\n",
      "Generation Alpha\n"
     ]
    }
   ],
   "source": [
    "print(\"Generation Identifier\")\n",
    "age = int(input('Pls, what year you were born:'))\n",
    "\n",
    "if 1928 <= age <= 1945:\n",
    "    print(\"silent generation\")\n",
    "\n",
    "elif 1946 <= age <= 1964:\n",
    "    print(\"Baby Boomers\")\n",
    "\n",
    "elif 1965 <= age <= 1965:\n",
    "    print(\"Generation x\")\n",
    "\n",
    "elif 1981 <= age <= 1996:\n",
    "    print(\"Millenials\")\n",
    "\n",
    "elif 1997 <= age <= 2012:\n",
    "    print(\"Generation Z\")\n",
    "\n",
    "elif 2012 <= age <= 2025:\n",
    "    print(\"Generation Alpha\")\n",
    "\n",
    "else:\n",
    "    print(\"Youre so old, its very cool\")\n",
    "\n"
   ]
  },
  {
   "cell_type": "code",
   "execution_count": null,
   "metadata": {},
   "outputs": [
    {
     "name": "stdout",
     "output_type": "stream",
     "text": [
      "you all owe 43.0\n"
     ]
    }
   ],
   "source": [
    "#Learning about maths equation and rounding up floating numbers\n",
    "\n",
    "myBill = float(input(\"Whats the bill?:\"))\n",
    "number_of_people = int(input(\"how many people came?\"))\n",
    "answer = myBill/ number_of_people\n",
    "answer = round(answer,2)\n",
    "print('you all owe', answer)\n"
   ]
  },
  {
   "cell_type": "code",
   "execution_count": 22,
   "metadata": {},
   "outputs": [
    {
     "name": "stdout",
     "output_type": "stream",
     "text": [
      "you all owe 105.0\n"
     ]
    }
   ],
   "source": [
    "bill = float(input(\"Whats the total bill?:\"))\n",
    "tip = int(input('how many percentage would you like to tip?:'))\n",
    "number_of_people = int(input(\"how many people came?:\"))\n",
    "\n",
    "\n",
    "totalbill = bill + (tip % bill)\n",
    "answer = totalbill/number_of_people\n",
    "answer = round(answer,2)\n",
    "\n",
    "print('you all owe', answer)"
   ]
  },
  {
   "cell_type": "code",
   "execution_count": null,
   "metadata": {},
   "outputs": [],
   "source": []
  }
 ],
 "metadata": {
  "kernelspec": {
   "display_name": "base",
   "language": "python",
   "name": "python3"
  },
  "language_info": {
   "codemirror_mode": {
    "name": "ipython",
    "version": 3
   },
   "file_extension": ".py",
   "mimetype": "text/x-python",
   "name": "python",
   "nbconvert_exporter": "python",
   "pygments_lexer": "ipython3",
   "version": "3.12.7"
  }
 },
 "nbformat": 4,
 "nbformat_minor": 2
}
