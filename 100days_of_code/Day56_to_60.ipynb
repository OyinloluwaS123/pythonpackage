{
 "cells": [
  {
   "cell_type": "code",
   "execution_count": null,
   "metadata": {},
   "outputs": [
    {
     "name": "stdout",
     "output_type": "stream",
     "text": [
      "P P P P P P P P P P P P P P P \n",
      "P P P P P P P P P P P P P \n",
      "P P P P P P P P P P P \n",
      "P P P P P P P P P \n",
      "P P P P P P P \n",
      "P P P P P \n",
      "P P P \n",
      "P \n",
      "done!\n"
     ]
    }
   ],
   "source": [
    "#Recursion\n",
    "\n",
    "def reverse(value):\n",
    "    if value <= 0:\n",
    "        print(\"done!\")\n",
    "        return\n",
    "    else:\n",
    "        for i in range(value):\n",
    "            print(\"P\", end=\" \")\n",
    "        print() \n",
    "        reverse(value - 2)\n",
    "\n",
    "reverse(15)"
   ]
  },
  {
   "cell_type": "code",
   "execution_count": 8,
   "metadata": {},
   "outputs": [
    {
     "name": "stdout",
     "output_type": "stream",
     "text": [
      "45150\n"
     ]
    }
   ],
   "source": [
    "#Challenge - Calculate a factorial using recursion function\n",
    "\n",
    "def factorial(value):\n",
    "    if value == 1:\n",
    "        return 1\n",
    "    else:\n",
    "        return value + factorial(value - 1)\n",
    "    \n",
    "print(factorial(300))\n"
   ]
  },
  {
   "cell_type": "code",
   "execution_count": 9,
   "metadata": {},
   "outputs": [
    {
     "name": "stdout",
     "output_type": "stream",
     "text": [
      "0\n",
      "1\n",
      "2\n",
      "3\n",
      "4\n"
     ]
    }
   ],
   "source": [
    "#Debugger\n",
    "\n",
    "for i in range(5):\n",
    "    print(i)\n",
    "\n",
    " "
   ]
  },
  {
   "cell_type": "code",
   "execution_count": 10,
   "metadata": {},
   "outputs": [
    {
     "name": "stdout",
     "output_type": "stream",
     "text": [
      "False\n"
     ]
    }
   ],
   "source": [
    "#Palindrome\n",
    "\n",
    "def palindrome(word):\n",
    "    if len(word) <= 1:\n",
    "        return \n",
    "    if word[0] != word [-1]:\n",
    "        return False\n",
    "    return palindrome(word[1 :-1])\n",
    "\n",
    "print(palindrome(\"racecars\"))"
   ]
  },
  {
   "cell_type": "code",
   "execution_count": 11,
   "metadata": {},
   "outputs": [
    {
     "name": "stdout",
     "output_type": "stream",
     "text": [
      "2022-12-07\n"
     ]
    }
   ],
   "source": [
    "import datetime\n",
    "\n",
    "myDate = datetime.date(year = 2022, month = 12, day = 7)\n",
    "print(myDate)"
   ]
  },
  {
   "cell_type": "code",
   "execution_count": 14,
   "metadata": {},
   "outputs": [
    {
     "name": "stdout",
     "output_type": "stream",
     "text": [
      "2026-05-15\n"
     ]
    }
   ],
   "source": [
    "import datetime\n",
    "\n",
    "today = datetime.date.today()\n",
    "difference = datetime.timedelta(days = 365)\n",
    "\n",
    "newDate = today + difference\n",
    "\n",
    "print(newDate)"
   ]
  },
  {
   "cell_type": "code",
   "execution_count": 18,
   "metadata": {},
   "outputs": [
    {
     "name": "stdout",
     "output_type": "stream",
     "text": [
      "Are you excited?, this is the countdown to your event\n",
      "wow, youre going to have to wait a little while its 211 days away\n"
     ]
    }
   ],
   "source": [
    "# Challenge  - Create an event countdown thats asks the user for the date of the event, work out \n",
    "# the event date to the present day and coment acordingly\n",
    "\n",
    "import datetime \n",
    "today =datetime.date.today()\n",
    "\n",
    "print(\"Are you excited?, this is the countdown to your event\")\n",
    "day = int(input(\"What day is it?\"))\n",
    "month = int(input(\"What mon th is it?\"))\n",
    "year = int(input(\"What year is it?\"))\n",
    "\n",
    "event = datetime.date(year,month,day)\n",
    "\n",
    "difference = event - today\n",
    "difference = difference.days\n",
    "\n",
    "if (difference > 0):\n",
    "    print(\"wow, youre going to have to wait a little while\", \"its\", difference, \"days away\")\n",
    "\n",
    "elif (difference < 0):\n",
    "    print(\"sorry, the event day has passed\")\n",
    "\n",
    "else:\n",
    "    print(\"youre going to have a great day\")"
   ]
  },
  {
   "cell_type": "code",
   "execution_count": null,
   "metadata": {},
   "outputs": [],
   "source": []
  }
 ],
 "metadata": {
  "kernelspec": {
   "display_name": "base",
   "language": "python",
   "name": "python3"
  },
  "language_info": {
   "codemirror_mode": {
    "name": "ipython",
    "version": 3
   },
   "file_extension": ".py",
   "mimetype": "text/x-python",
   "name": "python",
   "nbconvert_exporter": "python",
   "pygments_lexer": "ipython3",
   "version": "3.12.7"
  }
 },
 "nbformat": 4,
 "nbformat_minor": 2
}
