{
 "cells": [
  {
   "cell_type": "code",
   "execution_count": 11,
   "metadata": {},
   "outputs": [
    {
     "name": "stdout",
     "output_type": "stream",
     "text": [
      "name:Ian\n",
      "health:219\n",
      "strength:199\n",
      "Whoa, so strong\n",
      "equipped:Axe\n"
     ]
    }
   ],
   "source": [
    "#Dictionaries with loops\n",
    "\n",
    "myDictionary = {'name': \"Ian\", \"health\": 219, \"strength\": 199, \"equipped\": \"Axe\"}\n",
    "\n",
    "for name,value in myDictionary.items():\n",
    "    print(f\"{name}:{value}\" )\n",
    "    if (name == \"strength\"):\n",
    "        if (value>100):\n",
    "            print(\"Whoa, so strong\")\n",
    "        else:\n",
    "            print(\"weak sauce dude!\")"
   ]
  },
  {
   "cell_type": "code",
   "execution_count": 16,
   "metadata": {},
   "outputs": [
    {
     "name": "stdout",
     "output_type": "stream",
     "text": [
      "name:Doctor Sid\n",
      "url:https://www.linkedin.com/in/oyinloluwa/\n",
      "desc:A website to upload all your professional experience\n",
      "rating:5/5\n"
     ]
    }
   ],
   "source": [
    "#Challenge, create a dictionary with Keys and Values\n",
    "\n",
    "mywebsite = {'name': None, \"url\": None, \"desc\": None, \"rating\": None}\n",
    "\n",
    "for name,value  in mywebsite.items():\n",
    "    mywebsite[name] = input(f'{name}:') \n",
    "\n",
    "for name,value  in mywebsite.items():\n",
    "     print(f\"{name}:{value}\")\n"
   ]
  },
  {
   "cell_type": "code",
   "execution_count": 2,
   "metadata": {},
   "outputs": [
    {
     "name": "stdout",
     "output_type": "stream",
     "text": [
      "Mokebeast\n",
      "\u001b[33mname            \n",
      "type            Bulbachu\n",
      "specialmove     Water\n",
      "HP              Fiery Thing\n",
      "MP              21\n"
     ]
    }
   ],
   "source": [
    "#Challenge - Design Mokebeast game, a copy of Pokemon franchise.\n",
    "\n",
    "mokedex = {\"name\": None, \"type\": None, \"specialmove\": None, \"HP\": None, \"MP\" : None}\n",
    "print(\"Mokebeast\")\n",
    "\n",
    "for name,value  in mokedex.items():\n",
    "    mokedex[name] = input(f'{name}:').strip().title()\n",
    "\n",
    "if mokedex[\"type\"] == \"Earth\".lower():\n",
    "    print(\"\\033[32m\", end = '')\n",
    "elif mokedex[\"type\"] == \"Air\".lower():\n",
    "    print(\"\\033[37m\", end = '')\n",
    "elif mokedex[\"type\"] == \"Water\".lower():\n",
    "    print(\"\\033[34m\", end = '')\n",
    "elif mokedex[\"type\"] == \"Fire\".lower():\n",
    "    print(\"\\033[31m\", end = '')\n",
    "else:\n",
    "     print(\"\\033[33m\", end = '')\n",
    "\n",
    "\n",
    "for name,value in mokedex.items():\n",
    "    print(f\"{name:<15} {value}\")\n",
    "\n"
   ]
  },
  {
   "cell_type": "code",
   "execution_count": 14,
   "metadata": {},
   "outputs": [
    {
     "name": "stdout",
     "output_type": "stream",
     "text": [
      "[1, 13, 41]\n",
      "[48, 'bingo', 71]\n",
      "[84, 84, 89]\n",
      "[1, 13, 41]\n",
      "[48, 'bingo', 71]\n",
      "[84, 84, 89]\n",
      "[1, 13, 41]\n",
      "[48, 'bingo', 71]\n",
      "[84, 84, 89]\n",
      "[1, 13, 41]\n",
      "[48, 'bingo', 71]\n",
      "[84, 84, 89]\n",
      "[1, 13, 41]\n",
      "[48, 'bingo', 71]\n",
      "[84, 84, 89]\n",
      "You only get 4 trials\n"
     ]
    }
   ],
   "source": [
    "# Tables, 2D Lists\n",
    "#Challenge, create a bingo card\n",
    "\n",
    "import random\n",
    "\n",
    "bingo = []\n",
    "\n",
    "def number():\n",
    "    digit = random.randint(1,90)\n",
    "    return digit\n",
    "\n",
    "def prettyprint():\n",
    "    for row in bingo:\n",
    "        print(row)\n",
    "\n",
    "def createcard():\n",
    "    global bingo\n",
    "    digit = []\n",
    "\n",
    "    for i in range(8):\n",
    "        num = number()\n",
    "        while num in digit:\n",
    "            num = number()\n",
    "        digit.append(number())\n",
    "    digit.sort()\n",
    "\n",
    "    bingo = [[digit[0], digit[1], digit[2]],\n",
    "            [digit[3], \"bingo\", digit[4]],\n",
    "            [digit[5], digit[6], digit[7]]]\n",
    "    prettyprint()\n",
    "\n",
    "createcard()\n",
    "\n",
    "input_count = 0\n",
    "\n",
    "while True:\n",
    "    prettyprint()\n",
    "    num = int(input(\"next number:\"))\n",
    "    input_count += 1\n",
    "    for row in range(3):\n",
    "         for item in range(3):\n",
    "             if bingo[row][item] == num:\n",
    "                 bingo [row][item] = 'X'\n",
    "\n",
    "    Xs = 0\n",
    "    for row in bingo:\n",
    "        for item in row:\n",
    "            if item == \"X\":\n",
    "                Xs += 1\n",
    "\n",
    "    if Xs == 8:\n",
    "        print( \"you have won\")\n",
    "        break \n",
    "\n",
    "    if input_count == 4:\n",
    "        print(\"You only get 4 trials\")\n",
    "        break \n",
    "\n"
   ]
  }
 ],
 "metadata": {
  "kernelspec": {
   "display_name": "base",
   "language": "python",
   "name": "python3"
  },
  "language_info": {
   "codemirror_mode": {
    "name": "ipython",
    "version": 3
   },
   "file_extension": ".py",
   "mimetype": "text/x-python",
   "name": "python",
   "nbconvert_exporter": "python",
   "pygments_lexer": "ipython3",
   "version": "3.12.7"
  }
 },
 "nbformat": 4,
 "nbformat_minor": 2
}
