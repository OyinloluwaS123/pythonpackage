{
 "cells": [
  {
   "cell_type": "code",
   "execution_count": 21,
   "metadata": {},
   "outputs": [
    {
     "name": "stdout",
     "output_type": "stream",
     "text": [
      "woof!\n"
     ]
    }
   ],
   "source": [
    "#  Object oriented programming\n",
    "\n",
    "class Animal:\n",
    "    species = None\n",
    "    name = None\n",
    "    sound = None\n",
    "\n",
    "    def __init__(self, name, species, sound):\n",
    "        self.name = name\n",
    "        self.species = species\n",
    "        self.sound = sound\n",
    "\n",
    "dog = Animal(\"Dog\", \"Canine\", \"woof!\")\n",
    "print(dog.sound)"
   ]
  },
  {
   "cell_type": "code",
   "execution_count": 29,
   "metadata": {},
   "outputs": [
    {
     "name": "stdout",
     "output_type": "stream",
     "text": [
      "==JOB==\n",
      "\n",
      "Lawyer      $100,000          40\n",
      "==JOB==\n",
      "\n",
      "Doctor      $120,000          48\n",
      "7               pediatric consulting\n",
      "==JOB==\n",
      "\n",
      "Teacher     $100,000  ComputerScience\n",
      "48+             Assitant Principal\n"
     ]
    }
   ],
   "source": [
    "class job:\n",
    "    name = None\n",
    "    salary = None\n",
    "    hourWorked = None\n",
    "\n",
    "    def __init__ (self, name, salary, hourWorked):\n",
    "        self.name = name\n",
    "        self.salary = salary\n",
    "        self.hourWorked = hourWorked\n",
    "\n",
    "    def print(self):\n",
    "        print(\"==JOB==\")\n",
    "        print()\n",
    "        print(f\"{self.name:<10} {self.salary:^10} {self.hourWorked:>10}\")\n",
    "\n",
    "\n",
    "class doctor(job):\n",
    "    experience = None\n",
    "    speciality = None\n",
    "\n",
    "    def __init__(self,salary,hourWorked, expereince,specialty):\n",
    "        self.name = \"Doctor\"\n",
    "        self.salary = salary\n",
    "        self.hourWorked = hourWorked\n",
    "        self.experience = expereince\n",
    "        self.specialty = specialty\n",
    "        \n",
    "    def print(self):\n",
    "        print(\"==JOB==\")\n",
    "        print()\n",
    "        print(f\"{self.name:<10} {self.salary:^10} {self.hourWorked:>10}\")\n",
    "        print(f\"{self.experience:<15} {self.specialty:>15}\")\n",
    "\n",
    "\n",
    "class teacher (job):\n",
    "    subject = None\n",
    "    position = None\n",
    "\n",
    "    def __init__(self,salary,subject, experience,position):\n",
    "        self.name = \"Teacher\"\n",
    "        self.salary = salary\n",
    "        self.subject = subject\n",
    "        self.experience = experience\n",
    "        self.position = position\n",
    "\n",
    "    def print(self):\n",
    "        print(\"==JOB==\")\n",
    "        print()\n",
    "        print(f\"{self.name:<10} {self.salary:^10} {self.experience:>10}\")\n",
    "        print(f\"{self.subject:<15} {self.position:>15}\")\n",
    "\n",
    "\n",
    "\n",
    "lawyer = job(\"Lawyer\", \"$100,000\", \"40\")\n",
    "lawyer.print()\n",
    "\n",
    "doc = doctor(\"$120,000\", \"48\", \"7\", \"pediatric consulting\")\n",
    "doc.print()\n",
    "\n",
    "teach = teacher(\"$100,000\" , \"48+\", \"ComputerScience\", \"Assitant Principal\")\n",
    "teach.print()\n",
    "\n"
   ]
  },
  {
   "cell_type": "code",
   "execution_count": null,
   "metadata": {},
   "outputs": [],
   "source": []
  }
 ],
 "metadata": {
  "kernelspec": {
   "display_name": "base",
   "language": "python",
   "name": "python3"
  },
  "language_info": {
   "codemirror_mode": {
    "name": "ipython",
    "version": 3
   },
   "file_extension": ".py",
   "mimetype": "text/x-python",
   "name": "python",
   "nbconvert_exporter": "python",
   "pygments_lexer": "ipython3",
   "version": "3.12.7"
  }
 },
 "nbformat": 4,
 "nbformat_minor": 2
}
