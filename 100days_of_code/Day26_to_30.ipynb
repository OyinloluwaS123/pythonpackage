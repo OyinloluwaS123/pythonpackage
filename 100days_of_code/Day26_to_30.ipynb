{
 "cells": [
  {
   "cell_type": "code",
   "execution_count": 7,
   "metadata": {},
   "outputs": [
    {
     "name": "stdout",
     "output_type": "stream",
     "text": [
      "welcome\n",
      "to\n",
      "100days of code\n",
      "\u001b[H\u001b[2J"
     ]
    }
   ],
   "source": [
    "import os,time\n",
    "\n",
    "print(\"welcome\")\n",
    "print(\"to\")\n",
    "print(\"100days of code\")\n",
    "\n",
    "time.sleep(1)\n",
    "os.system(\"clear\")\n",
    "\n",
    "username = input(\"username:\")"
   ]
  },
  {
   "cell_type": "code",
   "execution_count": null,
   "metadata": {},
   "outputs": [
    {
     "name": "stdout",
     "output_type": "stream",
     "text": [
      "BATTLE TIME\n",
      "Arthur\n",
      "HEALTH 28.0\n",
      "STRENGHTH 22.0\n",
      "Who are they battling\n",
      "Gennny\n",
      "HEALTH 20.0\n",
      "STRENGHTH 11.5\n",
      "\u001b[H\u001b[2JBATTLE TIME\n",
      "The battle begins!\n",
      "Gennny wins the first blow\n",
      "Arthur\n",
      "HEALTH 16.5\n",
      "STRENGHTH 22.0\n",
      "Gennny\n",
      "HEALTH 20.0\n",
      "STRENGHTH 11.5\n",
      "and they both are going to the next round\n",
      "BATTLE TIME\n",
      "Arthur\n",
      "HEALTH 16.0\n",
      "STRENGHTH 14.0\n",
      "Who are they battling\n",
      "Shawn\n",
      "HEALTH 16.0\n",
      "STRENGHTH 10.5\n",
      "\u001b[H\u001b[2JBATTLE TIME\n",
      "The battle begins!\n",
      "Shawn wins the first blow\n",
      "Arthur\n",
      "HEALTH 11.5\n",
      "STRENGHTH 14.0\n",
      "Shawn\n",
      "HEALTH 16.0\n",
      "STRENGHTH 10.5\n",
      "and they both are going to the next round\n",
      "BATTLE TIME\n"
     ]
    }
   ],
   "source": [
    "import random, os, time\n",
    "\n",
    "def rollDice(side):\n",
    "    result = random.randint(1,side)\n",
    "    return result\n",
    "\n",
    "def health():\n",
    "    health = ((rollDice(6)*rollDice(12))/2)+10\n",
    "    return health\n",
    "\n",
    "def strength():\n",
    "    strengthStat = (((rollDice(6))*rollDice(8))/2)+10\n",
    "    return strengthStat\n",
    "\n",
    "\n",
    "while True:\n",
    "    print(\"BATTLE TIME\")\n",
    "    \n",
    "    char1name = input(\"Name your legend\")\n",
    "    c1type = input(\"Name your character type(Human,Elf,Wizard,Orc)\")\n",
    "    print(char1name)\n",
    "    c1health = health()\n",
    "    c1Strength = strength()\n",
    "    print(\"HEALTH\", c1health)\n",
    "    print(\"STRENGHTH\", c1Strength)\n",
    "    print(\"Who are they battling\")\n",
    "\n",
    "    char2name = input(\"Name your legend\")\n",
    "    c2type = input(\"Name your character type(Human,Elf,Wizard,Orc)\")\n",
    "    print(char2name)\n",
    "    c2health = health()\n",
    "    c2Strength = strength()\n",
    "    print(\"HEALTH\", c2health)\n",
    "    print(\"STRENGHTH\", c2Strength)\n",
    "    \n",
    "    round = 1\n",
    "    winner = None\n",
    "\n",
    "\n",
    "\n",
    "    time.sleep(1)\n",
    "    os.system(\"clear\")\n",
    "    print(\"BATTLE TIME\")\n",
    "    print(\"The battle begins!\")\n",
    "\n",
    "    c1Dice = rollDice(6)\n",
    "    c2Dice = rollDice(6)\n",
    "    \n",
    "    difference = abs(c1Strength - c2Strength) + 1\n",
    "\n",
    "    if c1Dice > c2Dice: \n",
    "        c2health -= difference\n",
    "        if round == 1:\n",
    "            print(char1name, \"wins the first blow\")\n",
    "        else:\n",
    "            print(char1name, \"wins round\", round)\n",
    "    elif c2Dice > c1Dice:\n",
    "        c1health -= difference\n",
    "        if round == 1:\n",
    "            print(char2name, \"wins the first blow\")\n",
    "        else:\n",
    "            print(char2name, \"wins round\", round)\n",
    "    else:\n",
    "        print(\"aww, Their swords clash nd they draw round\", round)\n",
    "\n",
    "    print(char1name)\n",
    "    print(\"HEALTH\", c1health)\n",
    "    print(\"STRENGHTH\", c1Strength)\n",
    "\n",
    "    print(char2name)\n",
    "    print(\"HEALTH\", c2health)\n",
    "    print(\"STRENGHTH\", c2Strength)\n",
    "\n",
    "\n",
    "    if c1health <= 0:\n",
    "        print(char1name, \"died\")\n",
    "        winner = char2name\n",
    "        break\n",
    "\n",
    "    elif c2health <= 0:\n",
    "        print(char2name, \"died\")\n",
    "        winner = char1name\n",
    "        break\n",
    "\n",
    "    else:\n",
    "        print('and they both are going to the next round')\n",
    "        round += 1\n",
    "\n",
    "time.sleep(1)\n",
    "os.system(\"clear\")\n",
    "print(\"BATTLE TIME\")\n",
    "print(winner, \"Has won in\", rounds,  \"rounds\")\n"
   ]
  },
  {
   "cell_type": "code",
   "execution_count": 7,
   "metadata": {},
   "outputs": [
    {
     "name": "stdout",
     "output_type": "stream",
     "text": [
      "1,2,3,4,5,6,7,8,9,10,11,12,13,14,"
     ]
    }
   ],
   "source": [
    "#The secrets of print\n",
    "\n",
    "for i in range(1,15):\n",
    "    print(i, end=',')"
   ]
  },
  {
   "cell_type": "code",
   "execution_count": 15,
   "metadata": {},
   "outputs": [
    {
     "name": "stdout",
     "output_type": "stream",
     "text": [
      "\u001b[?25l1,\u001b[H\u001b[2J2,\u001b[H\u001b[2J3,\u001b[H\u001b[2J4,\u001b[H\u001b[2J5,\u001b[H\u001b[2J6,\u001b[H\u001b[2J7,\u001b[H\u001b[2J8,\u001b[H\u001b[2J9,\u001b[H\u001b[2J10,\u001b[H\u001b[2J11,\u001b[H\u001b[2J12,\u001b[H\u001b[2J13,\u001b[H\u001b[2J14,\u001b[H\u001b[2J\u001b[?25h"
     ]
    }
   ],
   "source": [
    "import os, time\n",
    "\n",
    "print(\"\\033[?25l\", end = '')\n",
    "for i in range(1,15):\n",
    "    print(i, end=',')\n",
    "    time.sleep(0.5)\n",
    "    os.system(\"clear\")\n",
    "print(\"\\033[?25h\", end = '')"
   ]
  },
  {
   "cell_type": "code",
   "execution_count": 21,
   "metadata": {},
   "outputs": [
    {
     "name": "stdout",
     "output_type": "stream",
     "text": [
      "super subroutine\n",
      "with my  \u001b[31mnew program\u001b[0m I can just call red('and')"
     ]
    }
   ],
   "source": [
    "def newprint (color,word):\n",
    "    if color == \"red\":\n",
    "        print(\"\\033[31m\", word, sep = '', end = '')\n",
    "    elif color == \"green\":\n",
    "        print(\"\\033[32m\", word, sep = '', end = '')\n",
    "    elif color == \"blue\":\n",
    "        print(\"\\033[34m\", word, sep = '', end = '')\n",
    "    else:\n",
    "        print(\"\\033[0m\", word, sep = '', end = '')\n",
    "\n",
    "\n",
    "print(\"super subroutine\")\n",
    "print(\"with my \", end = \" \")\n",
    "newprint('red', 'new program')\n",
    "newprint(\"reset\", \" I can just call red('and')\")\n",
    "    "
   ]
  },
  {
   "cell_type": "code",
   "execution_count": null,
   "metadata": {},
   "outputs": [
    {
     "name": "stdout",
     "output_type": "stream",
     "text": [
      "This is Katie, usingshe/her, pronounsand is 28 years old. Hello Katie, how are you doing?\n"
     ]
    }
   ],
   "source": [
    "#.format\n",
    "name = 'Katie'\n",
    "age = \"28\"\n",
    "pronouns = \"she/her\"\n",
    "\n",
    "response ='This is {name}, using{pronouns}, pronounsand is {age} years old. Hello {name}, how are you doing?'. format(name =name, pronouns = pronouns, age = age)\n",
    "print(response)"
   ]
  },
  {
   "cell_type": "code",
   "execution_count": 28,
   "metadata": {},
   "outputs": [
    {
     "name": "stdout",
     "output_type": "stream",
     "text": [
      "This is Katie, using she/her pronouns and is 28 years old. Hello Katie, how are you doing?\n"
     ]
    }
   ],
   "source": [
    "#f strings\n",
    "\n",
    "name = 'Katie'\n",
    "age = \"28\"\n",
    "pronouns = \"she/her\"\n",
    "\n",
    "response =f'This is {name}, using {pronouns} pronouns and is {age} years old. Hello {name}, how are you doing?'\n",
    "print(response)"
   ]
  },
  {
   "cell_type": "code",
   "execution_count": null,
   "metadata": {},
   "outputs": [],
   "source": []
  }
 ],
 "metadata": {
  "kernelspec": {
   "display_name": "base",
   "language": "python",
   "name": "python3"
  },
  "language_info": {
   "codemirror_mode": {
    "name": "ipython",
    "version": 3
   },
   "file_extension": ".py",
   "mimetype": "text/x-python",
   "name": "python",
   "nbconvert_exporter": "python",
   "pygments_lexer": "ipython3",
   "version": "3.12.7"
  }
 },
 "nbformat": 4,
 "nbformat_minor": 2
}
